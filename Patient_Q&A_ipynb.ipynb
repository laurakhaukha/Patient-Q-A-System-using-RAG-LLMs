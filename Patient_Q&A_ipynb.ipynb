{
  "nbformat": 4,
  "nbformat_minor": 0,
  "metadata": {
    "colab": {
      "provenance": [],
      "gpuType": "T4"
    },
    "kernelspec": {
      "name": "python3",
      "display_name": "Python 3"
    },
    "language_info": {
      "name": "python"
    },
    "widgets": {
      "application/vnd.jupyter.widget-state+json": {
        "02622556c4cd444cb09dbcc142458e3d": {
          "model_module": "@jupyter-widgets/controls",
          "model_name": "HBoxModel",
          "model_module_version": "1.5.0",
          "state": {
            "_dom_classes": [],
            "_model_module": "@jupyter-widgets/controls",
            "_model_module_version": "1.5.0",
            "_model_name": "HBoxModel",
            "_view_count": null,
            "_view_module": "@jupyter-widgets/controls",
            "_view_module_version": "1.5.0",
            "_view_name": "HBoxView",
            "box_style": "",
            "children": [
              "IPY_MODEL_fd442ef5dd3842e2ae13bb1ce027306d",
              "IPY_MODEL_2988eb0853cd4884ba3bb2aff3ccd1dc",
              "IPY_MODEL_c785e9a95f35480ea142e05f0c2a4370"
            ],
            "layout": "IPY_MODEL_6e438fd3470f468c8225bb2d47167dd6"
          }
        },
        "fd442ef5dd3842e2ae13bb1ce027306d": {
          "model_module": "@jupyter-widgets/controls",
          "model_name": "HTMLModel",
          "model_module_version": "1.5.0",
          "state": {
            "_dom_classes": [],
            "_model_module": "@jupyter-widgets/controls",
            "_model_module_version": "1.5.0",
            "_model_name": "HTMLModel",
            "_view_count": null,
            "_view_module": "@jupyter-widgets/controls",
            "_view_module_version": "1.5.0",
            "_view_name": "HTMLView",
            "description": "",
            "description_tooltip": null,
            "layout": "IPY_MODEL_32613fde1663403fa61b8f56d54a7dd7",
            "placeholder": "​",
            "style": "IPY_MODEL_332c5f5d7ecc4e59894eb6f543c14820",
            "value": "Map: 100%"
          }
        },
        "2988eb0853cd4884ba3bb2aff3ccd1dc": {
          "model_module": "@jupyter-widgets/controls",
          "model_name": "FloatProgressModel",
          "model_module_version": "1.5.0",
          "state": {
            "_dom_classes": [],
            "_model_module": "@jupyter-widgets/controls",
            "_model_module_version": "1.5.0",
            "_model_name": "FloatProgressModel",
            "_view_count": null,
            "_view_module": "@jupyter-widgets/controls",
            "_view_module_version": "1.5.0",
            "_view_name": "ProgressView",
            "bar_style": "success",
            "description": "",
            "description_tooltip": null,
            "layout": "IPY_MODEL_36bab2a67c7a4f0087bdf9b109904c8d",
            "max": 19204,
            "min": 0,
            "orientation": "horizontal",
            "style": "IPY_MODEL_71675096592044fea7b927bf58a4a852",
            "value": 19204
          }
        },
        "c785e9a95f35480ea142e05f0c2a4370": {
          "model_module": "@jupyter-widgets/controls",
          "model_name": "HTMLModel",
          "model_module_version": "1.5.0",
          "state": {
            "_dom_classes": [],
            "_model_module": "@jupyter-widgets/controls",
            "_model_module_version": "1.5.0",
            "_model_name": "HTMLModel",
            "_view_count": null,
            "_view_module": "@jupyter-widgets/controls",
            "_view_module_version": "1.5.0",
            "_view_name": "HTMLView",
            "description": "",
            "description_tooltip": null,
            "layout": "IPY_MODEL_33ba5ebc261d4e789fd440af69302a57",
            "placeholder": "​",
            "style": "IPY_MODEL_454abacc53cb4ed191b32ca2a505add8",
            "value": " 19204/19204 [01:01&lt;00:00, 297.04 examples/s]"
          }
        },
        "6e438fd3470f468c8225bb2d47167dd6": {
          "model_module": "@jupyter-widgets/base",
          "model_name": "LayoutModel",
          "model_module_version": "1.2.0",
          "state": {
            "_model_module": "@jupyter-widgets/base",
            "_model_module_version": "1.2.0",
            "_model_name": "LayoutModel",
            "_view_count": null,
            "_view_module": "@jupyter-widgets/base",
            "_view_module_version": "1.2.0",
            "_view_name": "LayoutView",
            "align_content": null,
            "align_items": null,
            "align_self": null,
            "border": null,
            "bottom": null,
            "display": null,
            "flex": null,
            "flex_flow": null,
            "grid_area": null,
            "grid_auto_columns": null,
            "grid_auto_flow": null,
            "grid_auto_rows": null,
            "grid_column": null,
            "grid_gap": null,
            "grid_row": null,
            "grid_template_areas": null,
            "grid_template_columns": null,
            "grid_template_rows": null,
            "height": null,
            "justify_content": null,
            "justify_items": null,
            "left": null,
            "margin": null,
            "max_height": null,
            "max_width": null,
            "min_height": null,
            "min_width": null,
            "object_fit": null,
            "object_position": null,
            "order": null,
            "overflow": null,
            "overflow_x": null,
            "overflow_y": null,
            "padding": null,
            "right": null,
            "top": null,
            "visibility": null,
            "width": null
          }
        },
        "32613fde1663403fa61b8f56d54a7dd7": {
          "model_module": "@jupyter-widgets/base",
          "model_name": "LayoutModel",
          "model_module_version": "1.2.0",
          "state": {
            "_model_module": "@jupyter-widgets/base",
            "_model_module_version": "1.2.0",
            "_model_name": "LayoutModel",
            "_view_count": null,
            "_view_module": "@jupyter-widgets/base",
            "_view_module_version": "1.2.0",
            "_view_name": "LayoutView",
            "align_content": null,
            "align_items": null,
            "align_self": null,
            "border": null,
            "bottom": null,
            "display": null,
            "flex": null,
            "flex_flow": null,
            "grid_area": null,
            "grid_auto_columns": null,
            "grid_auto_flow": null,
            "grid_auto_rows": null,
            "grid_column": null,
            "grid_gap": null,
            "grid_row": null,
            "grid_template_areas": null,
            "grid_template_columns": null,
            "grid_template_rows": null,
            "height": null,
            "justify_content": null,
            "justify_items": null,
            "left": null,
            "margin": null,
            "max_height": null,
            "max_width": null,
            "min_height": null,
            "min_width": null,
            "object_fit": null,
            "object_position": null,
            "order": null,
            "overflow": null,
            "overflow_x": null,
            "overflow_y": null,
            "padding": null,
            "right": null,
            "top": null,
            "visibility": null,
            "width": null
          }
        },
        "332c5f5d7ecc4e59894eb6f543c14820": {
          "model_module": "@jupyter-widgets/controls",
          "model_name": "DescriptionStyleModel",
          "model_module_version": "1.5.0",
          "state": {
            "_model_module": "@jupyter-widgets/controls",
            "_model_module_version": "1.5.0",
            "_model_name": "DescriptionStyleModel",
            "_view_count": null,
            "_view_module": "@jupyter-widgets/base",
            "_view_module_version": "1.2.0",
            "_view_name": "StyleView",
            "description_width": ""
          }
        },
        "36bab2a67c7a4f0087bdf9b109904c8d": {
          "model_module": "@jupyter-widgets/base",
          "model_name": "LayoutModel",
          "model_module_version": "1.2.0",
          "state": {
            "_model_module": "@jupyter-widgets/base",
            "_model_module_version": "1.2.0",
            "_model_name": "LayoutModel",
            "_view_count": null,
            "_view_module": "@jupyter-widgets/base",
            "_view_module_version": "1.2.0",
            "_view_name": "LayoutView",
            "align_content": null,
            "align_items": null,
            "align_self": null,
            "border": null,
            "bottom": null,
            "display": null,
            "flex": null,
            "flex_flow": null,
            "grid_area": null,
            "grid_auto_columns": null,
            "grid_auto_flow": null,
            "grid_auto_rows": null,
            "grid_column": null,
            "grid_gap": null,
            "grid_row": null,
            "grid_template_areas": null,
            "grid_template_columns": null,
            "grid_template_rows": null,
            "height": null,
            "justify_content": null,
            "justify_items": null,
            "left": null,
            "margin": null,
            "max_height": null,
            "max_width": null,
            "min_height": null,
            "min_width": null,
            "object_fit": null,
            "object_position": null,
            "order": null,
            "overflow": null,
            "overflow_x": null,
            "overflow_y": null,
            "padding": null,
            "right": null,
            "top": null,
            "visibility": null,
            "width": null
          }
        },
        "71675096592044fea7b927bf58a4a852": {
          "model_module": "@jupyter-widgets/controls",
          "model_name": "ProgressStyleModel",
          "model_module_version": "1.5.0",
          "state": {
            "_model_module": "@jupyter-widgets/controls",
            "_model_module_version": "1.5.0",
            "_model_name": "ProgressStyleModel",
            "_view_count": null,
            "_view_module": "@jupyter-widgets/base",
            "_view_module_version": "1.2.0",
            "_view_name": "StyleView",
            "bar_color": null,
            "description_width": ""
          }
        },
        "33ba5ebc261d4e789fd440af69302a57": {
          "model_module": "@jupyter-widgets/base",
          "model_name": "LayoutModel",
          "model_module_version": "1.2.0",
          "state": {
            "_model_module": "@jupyter-widgets/base",
            "_model_module_version": "1.2.0",
            "_model_name": "LayoutModel",
            "_view_count": null,
            "_view_module": "@jupyter-widgets/base",
            "_view_module_version": "1.2.0",
            "_view_name": "LayoutView",
            "align_content": null,
            "align_items": null,
            "align_self": null,
            "border": null,
            "bottom": null,
            "display": null,
            "flex": null,
            "flex_flow": null,
            "grid_area": null,
            "grid_auto_columns": null,
            "grid_auto_flow": null,
            "grid_auto_rows": null,
            "grid_column": null,
            "grid_gap": null,
            "grid_row": null,
            "grid_template_areas": null,
            "grid_template_columns": null,
            "grid_template_rows": null,
            "height": null,
            "justify_content": null,
            "justify_items": null,
            "left": null,
            "margin": null,
            "max_height": null,
            "max_width": null,
            "min_height": null,
            "min_width": null,
            "object_fit": null,
            "object_position": null,
            "order": null,
            "overflow": null,
            "overflow_x": null,
            "overflow_y": null,
            "padding": null,
            "right": null,
            "top": null,
            "visibility": null,
            "width": null
          }
        },
        "454abacc53cb4ed191b32ca2a505add8": {
          "model_module": "@jupyter-widgets/controls",
          "model_name": "DescriptionStyleModel",
          "model_module_version": "1.5.0",
          "state": {
            "_model_module": "@jupyter-widgets/controls",
            "_model_module_version": "1.5.0",
            "_model_name": "DescriptionStyleModel",
            "_view_count": null,
            "_view_module": "@jupyter-widgets/base",
            "_view_module_version": "1.2.0",
            "_view_name": "StyleView",
            "description_width": ""
          }
        },
        "7abc652238ef4f9a9a43f7a09a7f393b": {
          "model_module": "@jupyter-widgets/controls",
          "model_name": "HBoxModel",
          "model_module_version": "1.5.0",
          "state": {
            "_dom_classes": [],
            "_model_module": "@jupyter-widgets/controls",
            "_model_module_version": "1.5.0",
            "_model_name": "HBoxModel",
            "_view_count": null,
            "_view_module": "@jupyter-widgets/controls",
            "_view_module_version": "1.5.0",
            "_view_name": "HBoxView",
            "box_style": "",
            "children": [
              "IPY_MODEL_6c35b11496fb4e34ac0dd9b3d200cd85",
              "IPY_MODEL_e81e07713cb24662a3a7dac554f61ad5",
              "IPY_MODEL_e03f72abe8ad4357b5eb45aca30b484b"
            ],
            "layout": "IPY_MODEL_9fe661f9031941fda4fa8823430653fc"
          }
        },
        "6c35b11496fb4e34ac0dd9b3d200cd85": {
          "model_module": "@jupyter-widgets/controls",
          "model_name": "HTMLModel",
          "model_module_version": "1.5.0",
          "state": {
            "_dom_classes": [],
            "_model_module": "@jupyter-widgets/controls",
            "_model_module_version": "1.5.0",
            "_model_name": "HTMLModel",
            "_view_count": null,
            "_view_module": "@jupyter-widgets/controls",
            "_view_module_version": "1.5.0",
            "_view_name": "HTMLView",
            "description": "",
            "description_tooltip": null,
            "layout": "IPY_MODEL_c652329ce12444868bcfe473d224f2a2",
            "placeholder": "​",
            "style": "IPY_MODEL_c2bb883456af48a38c02acc7c0fd2199",
            "value": "Map: 100%"
          }
        },
        "e81e07713cb24662a3a7dac554f61ad5": {
          "model_module": "@jupyter-widgets/controls",
          "model_name": "FloatProgressModel",
          "model_module_version": "1.5.0",
          "state": {
            "_dom_classes": [],
            "_model_module": "@jupyter-widgets/controls",
            "_model_module_version": "1.5.0",
            "_model_name": "FloatProgressModel",
            "_view_count": null,
            "_view_module": "@jupyter-widgets/controls",
            "_view_module_version": "1.5.0",
            "_view_name": "ProgressView",
            "bar_style": "success",
            "description": "",
            "description_tooltip": null,
            "layout": "IPY_MODEL_a115f6028b3642769036e451a30b6906",
            "max": 4801,
            "min": 0,
            "orientation": "horizontal",
            "style": "IPY_MODEL_6dd4da8fce4c4edcafcaa8cba0baa53b",
            "value": 4801
          }
        },
        "e03f72abe8ad4357b5eb45aca30b484b": {
          "model_module": "@jupyter-widgets/controls",
          "model_name": "HTMLModel",
          "model_module_version": "1.5.0",
          "state": {
            "_dom_classes": [],
            "_model_module": "@jupyter-widgets/controls",
            "_model_module_version": "1.5.0",
            "_model_name": "HTMLModel",
            "_view_count": null,
            "_view_module": "@jupyter-widgets/controls",
            "_view_module_version": "1.5.0",
            "_view_name": "HTMLView",
            "description": "",
            "description_tooltip": null,
            "layout": "IPY_MODEL_c0a29e5acf7b430fa8a79f11111b797c",
            "placeholder": "​",
            "style": "IPY_MODEL_579384d02ca24bd6af59ba8d76eff7b4",
            "value": " 4801/4801 [00:14&lt;00:00, 313.09 examples/s]"
          }
        },
        "9fe661f9031941fda4fa8823430653fc": {
          "model_module": "@jupyter-widgets/base",
          "model_name": "LayoutModel",
          "model_module_version": "1.2.0",
          "state": {
            "_model_module": "@jupyter-widgets/base",
            "_model_module_version": "1.2.0",
            "_model_name": "LayoutModel",
            "_view_count": null,
            "_view_module": "@jupyter-widgets/base",
            "_view_module_version": "1.2.0",
            "_view_name": "LayoutView",
            "align_content": null,
            "align_items": null,
            "align_self": null,
            "border": null,
            "bottom": null,
            "display": null,
            "flex": null,
            "flex_flow": null,
            "grid_area": null,
            "grid_auto_columns": null,
            "grid_auto_flow": null,
            "grid_auto_rows": null,
            "grid_column": null,
            "grid_gap": null,
            "grid_row": null,
            "grid_template_areas": null,
            "grid_template_columns": null,
            "grid_template_rows": null,
            "height": null,
            "justify_content": null,
            "justify_items": null,
            "left": null,
            "margin": null,
            "max_height": null,
            "max_width": null,
            "min_height": null,
            "min_width": null,
            "object_fit": null,
            "object_position": null,
            "order": null,
            "overflow": null,
            "overflow_x": null,
            "overflow_y": null,
            "padding": null,
            "right": null,
            "top": null,
            "visibility": null,
            "width": null
          }
        },
        "c652329ce12444868bcfe473d224f2a2": {
          "model_module": "@jupyter-widgets/base",
          "model_name": "LayoutModel",
          "model_module_version": "1.2.0",
          "state": {
            "_model_module": "@jupyter-widgets/base",
            "_model_module_version": "1.2.0",
            "_model_name": "LayoutModel",
            "_view_count": null,
            "_view_module": "@jupyter-widgets/base",
            "_view_module_version": "1.2.0",
            "_view_name": "LayoutView",
            "align_content": null,
            "align_items": null,
            "align_self": null,
            "border": null,
            "bottom": null,
            "display": null,
            "flex": null,
            "flex_flow": null,
            "grid_area": null,
            "grid_auto_columns": null,
            "grid_auto_flow": null,
            "grid_auto_rows": null,
            "grid_column": null,
            "grid_gap": null,
            "grid_row": null,
            "grid_template_areas": null,
            "grid_template_columns": null,
            "grid_template_rows": null,
            "height": null,
            "justify_content": null,
            "justify_items": null,
            "left": null,
            "margin": null,
            "max_height": null,
            "max_width": null,
            "min_height": null,
            "min_width": null,
            "object_fit": null,
            "object_position": null,
            "order": null,
            "overflow": null,
            "overflow_x": null,
            "overflow_y": null,
            "padding": null,
            "right": null,
            "top": null,
            "visibility": null,
            "width": null
          }
        },
        "c2bb883456af48a38c02acc7c0fd2199": {
          "model_module": "@jupyter-widgets/controls",
          "model_name": "DescriptionStyleModel",
          "model_module_version": "1.5.0",
          "state": {
            "_model_module": "@jupyter-widgets/controls",
            "_model_module_version": "1.5.0",
            "_model_name": "DescriptionStyleModel",
            "_view_count": null,
            "_view_module": "@jupyter-widgets/base",
            "_view_module_version": "1.2.0",
            "_view_name": "StyleView",
            "description_width": ""
          }
        },
        "a115f6028b3642769036e451a30b6906": {
          "model_module": "@jupyter-widgets/base",
          "model_name": "LayoutModel",
          "model_module_version": "1.2.0",
          "state": {
            "_model_module": "@jupyter-widgets/base",
            "_model_module_version": "1.2.0",
            "_model_name": "LayoutModel",
            "_view_count": null,
            "_view_module": "@jupyter-widgets/base",
            "_view_module_version": "1.2.0",
            "_view_name": "LayoutView",
            "align_content": null,
            "align_items": null,
            "align_self": null,
            "border": null,
            "bottom": null,
            "display": null,
            "flex": null,
            "flex_flow": null,
            "grid_area": null,
            "grid_auto_columns": null,
            "grid_auto_flow": null,
            "grid_auto_rows": null,
            "grid_column": null,
            "grid_gap": null,
            "grid_row": null,
            "grid_template_areas": null,
            "grid_template_columns": null,
            "grid_template_rows": null,
            "height": null,
            "justify_content": null,
            "justify_items": null,
            "left": null,
            "margin": null,
            "max_height": null,
            "max_width": null,
            "min_height": null,
            "min_width": null,
            "object_fit": null,
            "object_position": null,
            "order": null,
            "overflow": null,
            "overflow_x": null,
            "overflow_y": null,
            "padding": null,
            "right": null,
            "top": null,
            "visibility": null,
            "width": null
          }
        },
        "6dd4da8fce4c4edcafcaa8cba0baa53b": {
          "model_module": "@jupyter-widgets/controls",
          "model_name": "ProgressStyleModel",
          "model_module_version": "1.5.0",
          "state": {
            "_model_module": "@jupyter-widgets/controls",
            "_model_module_version": "1.5.0",
            "_model_name": "ProgressStyleModel",
            "_view_count": null,
            "_view_module": "@jupyter-widgets/base",
            "_view_module_version": "1.2.0",
            "_view_name": "StyleView",
            "bar_color": null,
            "description_width": ""
          }
        },
        "c0a29e5acf7b430fa8a79f11111b797c": {
          "model_module": "@jupyter-widgets/base",
          "model_name": "LayoutModel",
          "model_module_version": "1.2.0",
          "state": {
            "_model_module": "@jupyter-widgets/base",
            "_model_module_version": "1.2.0",
            "_model_name": "LayoutModel",
            "_view_count": null,
            "_view_module": "@jupyter-widgets/base",
            "_view_module_version": "1.2.0",
            "_view_name": "LayoutView",
            "align_content": null,
            "align_items": null,
            "align_self": null,
            "border": null,
            "bottom": null,
            "display": null,
            "flex": null,
            "flex_flow": null,
            "grid_area": null,
            "grid_auto_columns": null,
            "grid_auto_flow": null,
            "grid_auto_rows": null,
            "grid_column": null,
            "grid_gap": null,
            "grid_row": null,
            "grid_template_areas": null,
            "grid_template_columns": null,
            "grid_template_rows": null,
            "height": null,
            "justify_content": null,
            "justify_items": null,
            "left": null,
            "margin": null,
            "max_height": null,
            "max_width": null,
            "min_height": null,
            "min_width": null,
            "object_fit": null,
            "object_position": null,
            "order": null,
            "overflow": null,
            "overflow_x": null,
            "overflow_y": null,
            "padding": null,
            "right": null,
            "top": null,
            "visibility": null,
            "width": null
          }
        },
        "579384d02ca24bd6af59ba8d76eff7b4": {
          "model_module": "@jupyter-widgets/controls",
          "model_name": "DescriptionStyleModel",
          "model_module_version": "1.5.0",
          "state": {
            "_model_module": "@jupyter-widgets/controls",
            "_model_module_version": "1.5.0",
            "_model_name": "DescriptionStyleModel",
            "_view_count": null,
            "_view_module": "@jupyter-widgets/base",
            "_view_module_version": "1.2.0",
            "_view_name": "StyleView",
            "description_width": ""
          }
        }
      }
    },
    "accelerator": "GPU"
  },
  "cells": [
    {
      "cell_type": "markdown",
      "source": [
        "# NHS Patient Q&A  \n"
      ],
      "metadata": {
        "id": "MEP5ur7v5tBf"
      }
    },
    {
      "cell_type": "code",
      "source": [
        "!pip install evaluate\n",
        "!pip install rouge_score\n",
        "!pip install bert_score"
      ],
      "metadata": {
        "id": "usu3XbO_-vSI"
      },
      "execution_count": null,
      "outputs": []
    },
    {
      "cell_type": "code",
      "source": [
        "#Libraries/ packages used throughtout this project, please run prior to\n",
        "import pandas as pd\n",
        "import numpy as np\n",
        "import os\n",
        "import string\n",
        "import re\n",
        "import matplotlib.pyplot as plt\n",
        "from datasets import Dataset\n",
        "from google.colab import files, drive\n",
        "import traceback\n",
        "from pathlib import Path #needed to improve procssing speed\n",
        "from sklearn.model_selection import train_test_split\n",
        "import evaluate\n",
        "from transformers import AutoTokenizer, T5ForConditionalGeneration, Seq2SeqTrainer, Seq2SeqTrainingArguments, AutoModelForSeq2SeqLM, DataCollatorForSeq2Seq, EarlyStoppingCallback\n",
        "from sklearn.metrics import precision_score, recall_score, f1_score, accuracy_score\n",
        "from sklearn.feature_extraction.text import TfidfVectorizer\n",
        "from sklearn.metrics.pairwise import cosine_similarity\n",
        "from nltk.translate.bleu_score import sentence_bleu, SmoothingFunction"
      ],
      "metadata": {
        "id": "PTvMk3xptn4q"
      },
      "execution_count": null,
      "outputs": []
    },
    {
      "cell_type": "code",
      "source": [
        "# Needed if Google collab and the data is stored in local google drive:\n",
        "drive.mount('/content/drive')"
      ],
      "metadata": {
        "colab": {
          "base_uri": "https://localhost:8080/"
        },
        "id": "g4USXzLLtB2d",
        "outputId": "f835f21b-0817-42cf-9d04-30acda12142b"
      },
      "execution_count": null,
      "outputs": [
        {
          "output_type": "stream",
          "name": "stdout",
          "text": [
            "Drive already mounted at /content/drive; to attempt to forcibly remount, call drive.mount(\"/content/drive\", force_remount=True).\n"
          ]
        }
      ]
    },
    {
      "cell_type": "code",
      "source": [
        "#Please note: Adapt the local directiory to run the subsequent script\n",
        "# Loading data from local directionary\n",
        "trainds = pd.read_csv(\"/content/drive/My Drive/Colab Notebooks/AMLH-NLP EHR/patient_qa_train.csv\",sep=\",\", dtype=str)\n",
        "testds = pd.read_csv(\"/content/drive/My Drive/Colab Notebooks/AMLH-NLP EHR/patient_qa_test.csv\",sep=\",\", dtype=str)\n",
        "NHS_documents_wd = Path(\"/content/drive/My Drive/Colab Notebooks/AMLH-NLP EHR/db_nhs_qa\")"
      ],
      "metadata": {
        "id": "EtFyFHz6sz8n"
      },
      "execution_count": null,
      "outputs": []
    },
    {
      "cell_type": "markdown",
      "source": [
        "## Section 1.0: Exploratory data anlysis (EDA) for provided data\n"
      ],
      "metadata": {
        "id": "k-RETN47qC9j"
      }
    },
    {
      "cell_type": "code",
      "source": [
        "#EDA: Exploratory data analysis trainds\n",
        "print(f\"train df shape:{trainds.shape}: {trainds.columns}\")\n",
        "#EDA: Exploratory data analysis testds\n",
        "print(f\"test df shape:{testds.shape}: {testds.columns}\")\n",
        "\n",
        "# Looking at the disease column of the dataset to understand\n",
        "#what conditions the provided answers are related to\n",
        "disease_uniqu = trainds['disease'].unique()\n",
        "diagnosis_counts = trainds['disease'].value_counts()\n",
        "\n",
        "print(f\"Disease distribution: {diagnosis_counts}\")\n",
        "print(f\"Disease distribution: {disease_uniqu}\")  #Nr. of diseases discusesed 2392\n",
        "print(diagnosis_counts.head(20))\n",
        "#Observation diseases column do not only repsents diseases or conditions\n",
        "#but medical circumstances, alonside a seperator \"/\", which requires furhter cleaninign later on\n",
        "#the corresponding descriptions may be important later for the models context:"
      ],
      "metadata": {
        "colab": {
          "base_uri": "https://localhost:8080/"
        },
        "id": "Sk3RPiwisxSa",
        "outputId": "ba1dee10-a1cd-470a-a43f-7606f170ece6"
      },
      "execution_count": null,
      "outputs": [
        {
          "output_type": "stream",
          "name": "stdout",
          "text": [
            "train df shape:(24005, 4): Index(['question', 'answer', 'disease', 'reference_url'], dtype='object')\n",
            "test df shape:(211, 4): Index(['question', 'answer', 'disease', 'reference_url'], dtype='object')\n",
            "Disease distribution: disease\n",
            "breast cancer/treatment                                20\n",
            "contraception/the pill progestogen only                20\n",
            "fibroids/treatment                                     20\n",
            "first aid                                              20\n",
            "pregnancy and baby/infectious illnesses children       20\n",
            "                                                       ..\n",
            "dialysis/side effects                                  10\n",
            "dialysis/what happens                                  10\n",
            "diarrhoea and vomiting                                 10\n",
            "diabetic ketoacidosis                                  10\n",
            "pregnancy and baby/twins healthy multiple pregnancy     5\n",
            "Name: count, Length: 2392, dtype: int64\n",
            "Disease distribution: ['Bronchiolitis' 'Bronchitis' 'Laryngitis' ... 'x ray' 'yellow fever'\n",
            " 'zika']\n",
            "disease\n",
            "breast cancer/treatment                              20\n",
            "contraception/the pill progestogen only              20\n",
            "fibroids/treatment                                   20\n",
            "first aid                                            20\n",
            "pregnancy and baby/infectious illnesses children     20\n",
            "lung cancer/treatment                                20\n",
            "baby/weaning and feeding/babys first solid foods     20\n",
            "amputation                                           20\n",
            "contraception/change different pill                  20\n",
            "osteoarthritis/living with                           10\n",
            "obsessive compulsive disorder ocd                    10\n",
            "obstructive sleep apnoea                             10\n",
            "occupational therapy                                 10\n",
            "oedema                                               10\n",
            "oesophageal atresia                                  10\n",
            "oesophageal cancer/causes                            10\n",
            "obesity/diagnosis                                    10\n",
            "osteoporosis/causes                                  10\n",
            "oesophageal cancer/treatment                         10\n",
            "oesophageal cancer/where to find help and support    10\n",
            "Name: count, dtype: int64\n"
          ]
        }
      ]
    },
    {
      "cell_type": "code",
      "source": [
        "#Descriptive statisics for display in the report Section 1.0: Introduction\n",
        "#Exploring the character lengths of both the answers and questions within the dataset\n",
        "trainds[\"question_length\"] = trainds[\"question\"].apply(lambda x: len(str(x).split()))\n",
        "trainds[\"answer_length\"] = trainds[\"answer\"].apply(lambda x: len(str(x).split()))\n",
        "#Exploring the descriptive stats for both answers and questions' characters:\n",
        "print(\"\\n Question word length stats:\")\n",
        "print(trainds[\"question_length\"].describe())\n",
        "print(\"\\n Answer word length stats:\")\n",
        "print(trainds[\"answer_length\"].describe())"
      ],
      "metadata": {
        "colab": {
          "base_uri": "https://localhost:8080/"
        },
        "id": "SQPzqKf1qPCb",
        "outputId": "63b7f5a0-34f3-4ce2-a5c3-2ffa4ffe3d69"
      },
      "execution_count": null,
      "outputs": [
        {
          "output_type": "stream",
          "name": "stdout",
          "text": [
            "\n",
            " Question word length stats:\n",
            "count    24005.000000\n",
            "mean         8.920225\n",
            "std          3.671865\n",
            "min          3.000000\n",
            "25%          6.000000\n",
            "50%          9.000000\n",
            "75%         11.000000\n",
            "max         29.000000\n",
            "Name: question_length, dtype: float64\n",
            "\n",
            " Answer word length stats:\n",
            "count    24005.000000\n",
            "mean        41.355884\n",
            "std         19.516501\n",
            "min          4.000000\n",
            "25%         27.000000\n",
            "50%         38.000000\n",
            "75%         52.000000\n",
            "max        262.000000\n",
            "Name: answer_length, dtype: float64\n"
          ]
        }
      ]
    },
    {
      "cell_type": "code",
      "source": [
        "#Descriptive statisics for display in the report Section 1.0: Introduction\n",
        "#Exploring the character lengths of both the answers and questions within the dataset\n",
        "trainds[\"question_length\"] = trainds[\"question\"].apply(lambda x: len(str(x).split()))\n",
        "trainds[\"answer_length\"] = trainds[\"answer\"].apply(lambda x: len(str(x).split()))\n",
        "#Exploring the descriptive stats for both answers and questions' characters:\n",
        "print(\"\\n Question word length stats:\")\n",
        "print(trainds[\"question_length\"].describe())\n",
        "print(\"\\n Answer word length stats:\")\n",
        "print(trainds[\"answer_length\"].describe())"
      ],
      "metadata": {
        "id": "hAwNIL7yfhzj",
        "colab": {
          "base_uri": "https://localhost:8080/"
        },
        "outputId": "923763ef-3bf8-4743-a566-fabdecc6094b"
      },
      "execution_count": null,
      "outputs": [
        {
          "output_type": "stream",
          "name": "stdout",
          "text": [
            "\n",
            " Question word length stats:\n",
            "count    24005.000000\n",
            "mean         8.920225\n",
            "std          3.671865\n",
            "min          3.000000\n",
            "25%          6.000000\n",
            "50%          9.000000\n",
            "75%         11.000000\n",
            "max         29.000000\n",
            "Name: question_length, dtype: float64\n",
            "\n",
            " Answer word length stats:\n",
            "count    24005.000000\n",
            "mean        41.355884\n",
            "std         19.516501\n",
            "min          4.000000\n",
            "25%         27.000000\n",
            "50%         38.000000\n",
            "75%         52.000000\n",
            "max        262.000000\n",
            "Name: answer_length, dtype: float64\n"
          ]
        }
      ]
    },
    {
      "cell_type": "markdown",
      "source": [
        "## Section 2.0: Data Preprocessing (TF:IDF)\n"
      ],
      "metadata": {
        "id": "qKtOXtr9fIEf"
      }
    },
    {
      "cell_type": "code",
      "source": [
        "# Firstly, for the downstream implentaion of TF-IDF, the\n",
        "#Here the fetch_by_diagnosis function, was initally applied combined with safe_filename,\n",
        "#though the processing speed was immensly affected, as such a simple corpus build was decided for\n",
        "def safefilename(name):\n",
        "    \"\"\" Mapps the disease label to the matching NHS document in ./db_nhs_qa,Provided from the assignment brief, for \"\"\"\n",
        "    cle= re.sub(r'[^a-zA-Z0-9 ]', '_', name.strip().lower())\n",
        "    cle= re.sub(r'\\s+', '_', cle)\n",
        "    cle= re.sub(r'_+', '_', cle)\n",
        "    return cle +\".txt\"\n",
        "fi = {fn.name.lower(): fn for fn in NHS_documents_wd.iterdir() if fn.suffix == \".txt\"}\n",
        "\n",
        "#For this TF-IDF context, a corpus needs to be setup/build\n",
        "#loading/fetching all documents using the fetch_by_diagnosis function above\n",
        "#Herein only unqiue disease will be included, for a more valid evalution less\n",
        "corps_txt= { }\n",
        "miss= []\n",
        "for d in trainds[\"disease\"].unique():\n",
        "    dname = safefilename(d)\n",
        "    if dname in fi:\n",
        "        corps_txt[d] = fi[dname].read_text(encoding=\"utf-8\")\n",
        "    else:\n",
        "      miss.append(d)\n",
        "#Checking how many files were loaded in the corpus\n",
        "print(f\"{len(corps_txt)}, {len(miss)}\")"
      ],
      "metadata": {
        "id": "W5DcHWyl21M6",
        "colab": {
          "base_uri": "https://localhost:8080/"
        },
        "outputId": "856ab71d-a90d-4881-ed33-2421fc36562e"
      },
      "execution_count": null,
      "outputs": [
        {
          "output_type": "stream",
          "name": "stdout",
          "text": [
            "2392, 0\n"
          ]
        }
      ]
    },
    {
      "cell_type": "code",
      "source": [
        "# Data Cleaning: In preperation for TF:IDF Implementation, as outlined in Section 2.1.2\n",
        "# Text standarsiation, includes lowercasing, removing puncutation or furhter symbols like hyphens and /, whitepsecaes\n",
        "# Removal of stopwords is conducted later in the\n",
        "\n",
        "#Creating a copy of the used datasets, to enusure seperate and clean application for both models\n",
        "train_ds_idf_copy= trainds.copy()\n",
        "test_ds_idf_copy= testds.copy()\n",
        "\n",
        "#Creating a function for efficient, data cleaning (text standardisation),\n",
        "def standardisation_txt(txt_for_standard):\n",
        "  \"\"\" The following function ensures efficient cleaning of text,\n",
        "      hereby lowercasing, removing puncuation, hyphens and slashes  as well as unnesssary whitespaces: A step needed for TF:IDF \"\"\"\n",
        "  txt_for_standard= str(txt_for_standard)\n",
        "  txt_for_standard= txt_for_standard.lower()\n",
        "  txt_for_standard= re.sub(r\"[\\n\\t]\", ' ', txt_for_standard)\n",
        "  txt_for_standard= re.sub(r\"[-/]\", \" \", txt_for_standard)\n",
        "  txt_for_standard = txt_for_standard.translate(str.maketrans('', '', string.punctuation))\n",
        "  txt_for_standard = re.sub(r'\\s+', ' ', txt_for_standard).strip()\n",
        "  return txt_for_standard\n",
        "\n",
        "# Application of the standardisation_txt function, for the cleaning of the relvaent columns and documents and corpus\n",
        "# employed for TF-IDF implementation\n",
        "corps_IDF_ready_values = [standardisation_txt(doc) for doc in corps_txt.values()]\n",
        "corps_IDF_ready_keys = list(corps_txt.keys())\n",
        "train_ds_idf_copy[\"question\"]= train_ds_idf_copy[\"question\"].apply(standardisation_txt)\n",
        "train_ds_idf_copy[\"answer\"]= train_ds_idf_copy[\"answer\"].apply(standardisation_txt)\n",
        "test_ds_idf_copy[\"question\"]= test_ds_idf_copy[\"question\"].apply(standardisation_txt)\n",
        "test_ds_idf_copy[\"answer\"]= test_ds_idf_copy[\"answer\"].apply(standardisation_txt)"
      ],
      "metadata": {
        "id": "mCfRmdLh0Zjh"
      },
      "execution_count": null,
      "outputs": []
    },
    {
      "cell_type": "code",
      "source": [
        "## Remove any leadin from '\\ufeff each document’s text\n",
        "corps_IDF_ready_values= [doc.lstrip('\\ufeff') for doc in corps_IDF_ready_values]\n",
        "corps_IDF_ready_keys= [doc.lstrip('\\ufeff') for doc in corps_IDF_ready_keys]"
      ],
      "metadata": {
        "id": "VJFkGtLZa4QZ"
      },
      "execution_count": null,
      "outputs": []
    },
    {
      "cell_type": "code",
      "source": [
        "#vecotorising the corpus values: Addding the removal of stopwords via (stop_words='english'), part of precrocessing mentioned in report section 2.1.2\n",
        "vectoriser = TfidfVectorizer(stop_words='english',ngram_range=(1,2))\n",
        "# max_features=5000 was too harsh on the retrieval cutoff,\n",
        "#afftecting the cosine similarity score, hence why it was left out as a parameter\n",
        "corpsvect_ = vectoriser.fit_transform(corps_IDF_ready_values)"
      ],
      "metadata": {
        "id": "mtaZjgWBpQGk"
      },
      "execution_count": null,
      "outputs": []
    },
    {
      "cell_type": "markdown",
      "source": [
        "## Section 3.0: TF-IDF Implementation"
      ],
      "metadata": {
        "id": "fQtMhjm6vw57"
      }
    },
    {
      "cell_type": "code",
      "source": [
        "## Implementing the retk_docs, a function that implemtned TF-IDF for the document retrieval\n",
        "def retk_docs(question: str, k: int = 3):\n",
        "    \"\"\"Thsi function retruns the document with the highest ranking via (disease_label, snippet, score) tuples for `question`.\"\"\"\n",
        "    #Applying the standarsisation fuction from the code upstream,\n",
        "    # to clean the input question\n",
        "    stand_q = standardisation_txt(question)\n",
        "    #Vecorisation of the standardised input question\n",
        "    vexq   = vectoriser.transform([stand_q])\n",
        "    #Computing the cosine similarities against all docs\n",
        "    cosine_S  = cosine_similarity(vexq, corpsvect_).flatten()\n",
        "    #Filtering the question/docuemnt ouputs with the highest cosine_similarity scores\n",
        "    top_idxs = np.argsort(cosine_S)[::-1][:k]\n",
        "    #Storing the results in a list witht the question, corresponding document and cosien similiaryt score.\n",
        "    results = []\n",
        "    for idx in top_idxs:\n",
        "        question =corps_IDF_ready_keys[idx]\n",
        "        document =corps_IDF_ready_values[idx]\n",
        "        score = cosine_S[idx]\n",
        "        results.append((question, document, score))\n",
        "    return results"
      ],
      "metadata": {
        "id": "evh3TPn7qzXc"
      },
      "execution_count": null,
      "outputs": []
    },
    {
      "cell_type": "markdown",
      "source": [
        "##Section 4: TF-IDF MODEL Evaluation"
      ],
      "metadata": {
        "id": "UMt3AF5HwtCm"
      }
    },
    {
      "cell_type": "markdown",
      "source": [
        "Section 4.1: Visual Inspection of Tf-IDF output"
      ],
      "metadata": {
        "id": "n7lVmo1cxb35"
      }
    },
    {
      "cell_type": "code",
      "source": [
        "#Visiual inspection of some one results:\n",
        "egp_1 = test_ds_idf_copy.loc[0, \"question\"]\n",
        "egp_2 = test_ds_idf_copy.loc[6, \"question\"]\n",
        "\n",
        "#taking the best ranked outputs for display\n",
        "bestranked_ouputs = retk_docs(egp_1, k=3)\n",
        "print(f\"Input qustion: {egp_1} ?\")\n",
        "for rank, (question, document, score) in enumerate(bestranked_ouputs, 1):\n",
        "    print(f\"rank {rank}: {question} (score {score:.2f})\")\n",
        "    print(f\"NHS document: {document}\")\n",
        "\n",
        "#Looking throgh the next three examples with egp_2\n",
        "bestranked_ouputs = retk_docs(egp_2, k=3)\n",
        "print(f\"Input qustion: {egp_2}?\")\n",
        "for rank, (question, document, score) in enumerate(bestranked_ouputs, 1):\n",
        "    print(f\"Rank NR {rank}: {question} (score {score:.2f})\")\n",
        "    print(f\"NHS document: {document}\")"
      ],
      "metadata": {
        "id": "Xjx_79Ids7Ly",
        "colab": {
          "base_uri": "https://localhost:8080/"
        },
        "outputId": "7eba3448-9038-4cba-bbf5-587514b2f645"
      },
      "execution_count": null,
      "outputs": [
        {
          "output_type": "stream",
          "name": "stdout",
          "text": [
            "Input qustion: what is bronchiolitis ?\n",
            "rank 1: Bronchiolitis (score 0.54)\n",
            "NHS document:  bronchiolitis nhs skip to main content bronchiolitis bronchiolitis is a common chest infection that affects babies and children under 2 its usually mild and can be treated at home but it can be serious bronchiolitis is different from bronchitis which causes a cough with lots of mucus and can affect people of all ages check if its bronchiolitis the early symptoms of bronchiolitis are similar to a cold such as sneezing a runny or blocked nose a cough and a slightly high temperature of 38c a child with bronchiolitis may then get other symptoms such as breathing more quickly finding it difficult to feed or eat noisy breathing wheezing becoming irritable symptoms are usually worst between days 3 and 5 and the cough usually gets better in 3 weeks immediate action required call 999 or go to ae if your child is having difficulty breathing – you may notice grunting noises or their tummy sucking under their ribs there are pauses when your child breathes your childs skin tongue or lips are blue your child is floppy and will not wake up or stay awake as a parent you may know if your child seems seriously unwell and should trust your own judgement find your nearest ae information do not drive to ae ask someone to drive you or call 999 and ask for an ambulance bring any medicines you take with you urgent advice ask for an urgent gp appointment or call 111 if your child has had a cold and its getting worse your child is feeding or eating much less than normal your child has had a dry nappy for 12 hours or more or shows other signs of dehydration your baby is under 3 months and has a temperature of 38c or is older than 3 months and has a temperature of 39c or higher your baby feels hotter than usual when you touch their back or chest or feels sweaty your child is very tired or irritable treatments for bronchiolitis theres no specific treatment for bronchiolitis it usually gets better on its own and you can look after your child at home but it can be serious in some children who may need to be treated in hospital do give childrens paracetamol to babies and children over 2 months old or ibuprofen to babies and children over 3 months old – but do not give aspirin to a child under 16 try using salt water saline drops if your childs nose is blocked keep your child upright as much as possible when theyre awake – this will help them breathe more easily encourage your child to drink lots of fluids – try smaller feeds more often in babies and give older children extra water or diluted fruit juice don’t do not smoke around your child do not try to lower your childs temperature by sponging them with cool water or taking off all their clothes preventing bronchiolitis there are some things you can do to lower the chances of your child getting bronchiolitis or spreading the viruses that cause it such as wash your hands and your childs hands often wash or wipe down toys and clean surfaces regularly avoid sharing things like cutlery and cups use disposable tissues and throw them away as soon as youve used them keep newborn babies away from anyone with a cold or the flu – especially if they were born prematurely or have serious health conditions its also important not to smoke around your child children who breathe in cigarette smoke have a higher risk of getting bronchiolitis rsv vaccinationthe rsv vaccine helps reduce the risk of a common infection called respiratory syncytial virus rsv causing serious problems such as bronchiolitis the vaccine is available on the nhs from 28 weeks of pregnancy this will help protect your baby for the first few months after theyre born its also offered to adults aged 75 to 79 children at risk of severe bronchiolitissome children may have a higher risk of getting seriously ill with bronchiolitis this includes children who were born very prematurely have a heart or lung condition have a weakened immune system these children may be able to have treatment in the winter between october and march to stop them getting severe bronchiolitis causes of bronchiolitis bronchiolitis is caused by a viral infection usually respiratory syncytial virus rsv rsv is very common and spreads easily in coughs and sneezes almost all children get it at least once before theyre 2 years old its not usually serious but some babies and children have a higher risk of getting bronchiolitis particularly babies under 6 months old babies and children who were born prematurely babies and children with a weakened immune system or long term lung or heart conditions page last reviewed 13 april 2022 next review due 13 april 2025\n",
            "rank 2: croup (score 0.04)\n",
            "NHS document:  croup nhs skip to main content croup croup is a common condition that mainly affects babies and young childrens airways its usually mild but its important to call nhs 111 or see a gp if you think your child has croup this is because they may need treatment check if your child has croup symptoms of croup include a barking cough – this may sound like a seal you can search online to hear examples a hoarse voice difficulty breathing a high pitched rasping sound when breathing in your child will usually have cold like symptoms to begin with such as a temperature runny nose and cough croup symptoms usually come on after a few days and are often worse at night if youre not sure its croup other conditions can have similar symptoms to croup symptoms possible cause runny nose sneezing cough and temperature cold cold like symptoms wheezing rapid breathing not feeding bronchiolitis cold like symptoms with bouts of coughing – your child may whoop when breathing in whooping cough urgent advice ask for an urgent gp appointment or call nhs 111 if you think your child may have croup – the doctor may give your child medicine to shorten the illness your child is getting worse or not getting better after seeing a gp occasionally your child may be referred to hospital if theyre more seriously ill or theyre under the age of 3 months how to look after a child with mild croup at home croup usually gets better on its own within 48 hours if 111 or a doctor confirms your child has mild croup there are things you can do to help them feel better do sit your child upright and try not to let them lie down comfort them if theyre distressed and try to keep them calm crying can make the symptoms worse give them plenty of fluids check on them regularly including at night give them paracetamol or ibuprofen to help ease a high temperature or any discomfort don’t do not put your child in a steamy room or get them to inhale steam immediate action required call 999 or go to ae if your child is struggling to breathe you may notice grunting noises see their tummy sucking under their ribcage or their breathing may sound different has blue grey pale or blotchy skin lips or tongue – on brown or black skin this may be easier to see on the palms of the hands or soles of the feet is sleepier than normal or difficult to wake is unusually quiet and still is limp floppy or not responding like they normally do their head may fall to the side backwards or forwards or they may find it difficult to lift their head or focus on your face is very upset or restless is having difficulty breathing and cant be calmed down is unwell and drooling more than they normally do finding it hard to swallow or wants to sit rather than lie down information do not drive to ae ask someone to drive you or call 999 and ask for an ambulance bring any medicines you take with you page last reviewed 02 august 2023 next review due 02 august 2026\n",
            "rank 3: respiratory tract infection (score 0.02)\n",
            "NHS document:  respiratory tract infections rtis nhs skip to main content respiratory tract infections rtis respiratory tract infections rtis are infections of parts of the body involved in breathing such as the sinuses throat airways or lungs most rtis get better without treatment but sometimes you may need to see a gp check if you have a respiratory tract infection symptoms of a respiratory tract infection include a cough – you may bring up mucus phlegm sneezing a stuffy or runny nose a sore throat headaches muscle aches breathlessness tight chest or wheezing a high temperature feeling generally unwell how to treat a respiratory tract infection yourself most respiratory tract infections rtis pass within 1 to 2 weeks you can usually treat your symptoms at home do get plenty of rest drink lots of water to loosen any mucus and make it easier to cough up drink a hot lemon and honey drink to help soothe a cough not suitable for babies under 1 year old gargle with warm salty water if you have a sore throat children should not try this raise your head up while sleeping using extra pillows to make breathing easier and clear your chest of mucus use painkillers to bring down a fever and help ease a sore throat headaches and muscle pain don’t do not let children breathe in steam from a bowl of hot water as theres a risk of scalding do not give aspirin to children under 16 do not smoke – it can make your symptoms worse how to make a hot lemon and honey drink squeeze half a lemon into a mug of boiled water add 1 to 2 teaspoons of honey drink while still warm do not give hot drinks to small children how to gargle with salt water dissolve half a teaspoon of salt in a glass of warm water – warm water helps salt dissolve gargle with the solution then spit it out – do not swallow it repeat as often as you like a pharmacist can help with an rtia pharmacist can suggest treatments to help relieve your symptoms such as decongestants and nasal sprays you can also buy cough medicines and throat lozenges although theres little evidence to show they help some treatments contain paracetamol and ibuprofen if youre taking these medicines separately be careful not to take more than the recommended dose certain treatments are not suitable for children babies and pregnant women your pharmacist can advise you about the best treatment for you or your child find a pharmacy non urgent advice see a gp if you have symptoms of a respiratory tract infection and you feel very unwell or your symptoms get worse youve had a high temperature for more than 3 days you cough up blood or bloodstained mucus youve had a cough for more than 3 weeks youre pregnant youre over 65 you have a weakened immune system – for example because you have a condition like diabetes or youre having chemotherapy you have a long term health condition such as a heart lung or kidney condition you may have pneumonia if your symptoms are severe treatment for a respiratory tract infection from a gp treatment for a respiratory tract infection rti will depend on the cause of your infection if your rti is caused by a virus like the common cold it will usually clear up by itself after a few weeks antibiotics will not help if your rti is caused by bacteria like pneumonia a gp may prescribe antibiotics make sure you complete the whole course as advised by a gp even if you start to feel better sometimes a sample of your mucus may need to be tested to see whats causing your rti important use of antibiotics antibiotics are only used to treat bacterial infections theyre not used for treating viral infections because they do not work for this type of infection how to avoid spreading a respiratory tract infection respiratory tract infections rtis are often spread in the coughs and sneezes of someone with an infection to reduce the chance of passing an rti on to others cover your mouth when you cough or sneeze wash your hands regularly throw away used tissues immediately how to avoid getting a respiratory tract infection if you keep getting respiratory tract infections or youre at a high risk of getting one for example because youre over the age of 65 or have a serious long term health condition you should ask a gp about the annual flu vaccine ask if you should have the pneumococcal vaccine – this helps prevent pneumonia stop smoking if you smoke types of respiratory tract infection there are several different types of respiratory tract infection rti theyre usually grouped into upper rtis and lower rtis upper rti affect the sinuses and throat they include common cold sinusitis sinus infection tonsillitis laryngitis lower rtis affect the airways and lungs they include bronchitis bronchiolitis chest infection pneumonia lung infection flu and covid 19 can both be upper or lower rtis lower rtis tend to last longer and can be more serious page last reviewed 23 december 2024 next review due 23 december 2027\n",
            "Input qustion: what increases a childs risk of severe bronchiolitis?\n",
            "Rank NR 1: Bronchiolitis (score 0.28)\n",
            "NHS document:  bronchiolitis nhs skip to main content bronchiolitis bronchiolitis is a common chest infection that affects babies and children under 2 its usually mild and can be treated at home but it can be serious bronchiolitis is different from bronchitis which causes a cough with lots of mucus and can affect people of all ages check if its bronchiolitis the early symptoms of bronchiolitis are similar to a cold such as sneezing a runny or blocked nose a cough and a slightly high temperature of 38c a child with bronchiolitis may then get other symptoms such as breathing more quickly finding it difficult to feed or eat noisy breathing wheezing becoming irritable symptoms are usually worst between days 3 and 5 and the cough usually gets better in 3 weeks immediate action required call 999 or go to ae if your child is having difficulty breathing – you may notice grunting noises or their tummy sucking under their ribs there are pauses when your child breathes your childs skin tongue or lips are blue your child is floppy and will not wake up or stay awake as a parent you may know if your child seems seriously unwell and should trust your own judgement find your nearest ae information do not drive to ae ask someone to drive you or call 999 and ask for an ambulance bring any medicines you take with you urgent advice ask for an urgent gp appointment or call 111 if your child has had a cold and its getting worse your child is feeding or eating much less than normal your child has had a dry nappy for 12 hours or more or shows other signs of dehydration your baby is under 3 months and has a temperature of 38c or is older than 3 months and has a temperature of 39c or higher your baby feels hotter than usual when you touch their back or chest or feels sweaty your child is very tired or irritable treatments for bronchiolitis theres no specific treatment for bronchiolitis it usually gets better on its own and you can look after your child at home but it can be serious in some children who may need to be treated in hospital do give childrens paracetamol to babies and children over 2 months old or ibuprofen to babies and children over 3 months old – but do not give aspirin to a child under 16 try using salt water saline drops if your childs nose is blocked keep your child upright as much as possible when theyre awake – this will help them breathe more easily encourage your child to drink lots of fluids – try smaller feeds more often in babies and give older children extra water or diluted fruit juice don’t do not smoke around your child do not try to lower your childs temperature by sponging them with cool water or taking off all their clothes preventing bronchiolitis there are some things you can do to lower the chances of your child getting bronchiolitis or spreading the viruses that cause it such as wash your hands and your childs hands often wash or wipe down toys and clean surfaces regularly avoid sharing things like cutlery and cups use disposable tissues and throw them away as soon as youve used them keep newborn babies away from anyone with a cold or the flu – especially if they were born prematurely or have serious health conditions its also important not to smoke around your child children who breathe in cigarette smoke have a higher risk of getting bronchiolitis rsv vaccinationthe rsv vaccine helps reduce the risk of a common infection called respiratory syncytial virus rsv causing serious problems such as bronchiolitis the vaccine is available on the nhs from 28 weeks of pregnancy this will help protect your baby for the first few months after theyre born its also offered to adults aged 75 to 79 children at risk of severe bronchiolitissome children may have a higher risk of getting seriously ill with bronchiolitis this includes children who were born very prematurely have a heart or lung condition have a weakened immune system these children may be able to have treatment in the winter between october and march to stop them getting severe bronchiolitis causes of bronchiolitis bronchiolitis is caused by a viral infection usually respiratory syncytial virus rsv rsv is very common and spreads easily in coughs and sneezes almost all children get it at least once before theyre 2 years old its not usually serious but some babies and children have a higher risk of getting bronchiolitis particularly babies under 6 months old babies and children who were born prematurely babies and children with a weakened immune system or long term lung or heart conditions page last reviewed 13 april 2022 next review due 13 april 2025\n",
            "Rank NR 2: epidermolysis bullosa/treatment (score 0.04)\n",
            "NHS document:  epidermolysis bullosa treatment nhs skip to main content treatment epidermolysis bullosa theres currently no cure for epidermolysis bullosa eb but treatment can help ease and control symptoms treatment also aims to avoid skin damage improve quality of life reduce the risk of developing complications such as infection and malnutrition specialist centres parents and children are usually referred to a specialist centre that employs staff with expertise and experience in treating the condition in england there are 4 specialist centres birmingham womens and childrens hospital solihull hospital great ormond street hospital for children london guys and st thomas hospital london after the initial diagnosis its likely that you and your child will have regular follow up appointments at a specialist centre so a detailed treatment plan can be drawn up once your childs symptoms improve or stabilise it may be possible to arrange for treatment to be provided locally so youll only need to visit the specialist centre occasionally but with more severe types of eb this arrangement may not always be possible treatment teamchildren with eb often have complex needs particularly if they have a severe form of the condition theyll need to be treated by a diverse team of medical specialists working together this team can include a doctor who specialises in treating skin conditions a dermatologist a dentist a dietitian a physiotherapist a play specialist who uses playful activities to help improve a childs physical and psychological wellbeing a specialist nurse who usually acts as the contact between you and other members of the team general advice an important part of your childs treatment plan will be practical advice about how to prevent trauma or friction to your childs skin to reduce the frequency of blistering this advice will vary depending on the type of eb and the severity of your childs symptoms this advice may include not walking long distances this can cause blisters to form on the soles of your childs feet avoiding everyday knocks bumps and scratches avoiding rubbing your childs skin you may have to change the way you lift your child keeping your child as cool as possible in warm weather avoiding clothes that fit tightly or rub against the skin to try to prevent blistering wearing clothes made from natural fabrics like cotton this will also help keep your child cool choosing comfortable shoes that fit well and dont have lumpy seams inside your child may have to have a carer when theyre out in the playground and avoid playing contact sports but its important that they dont avoid physical activities or contact with other children altogether your physiotherapist should be able to recommend activities unlikely to result in blistering such as swimming skin care your treatment team will be able to advise about caring for your childs skin for example when and how to puncture new blisters how to care for wounds left by blisters and prevent infection whether to leave wounds uncovered or use dressings what types of dressing to use how to apply and remove them and how often to change them whether to use moisturising creams on your childs skin its usually recommended that new blisters are punctured lanced using a sterile needle your gp will be able to provide you with a supply of sterile needles lancing the blisters will prevent them getting bigger large blisters can leave large painful wounds that take longer to heal its usually recommended to leave the skin on top of the blister to protect the lower layers of skin if an open wound needs a dressing its best to use one that doesnt stick to the skin and is easy to remove to hold a non stick dressing in place you may be advised to use a sock cotton bandage or tubular bandage regular sticking plasters should be avoided birch bark extracta gel containing birch bark extract can help partial thickness wounds heal more quickly its recommended for people aged 6 months and over who have dystrophic epidermolysis bullosa deb or junctional epidermolysis bullosa jeb infections open wounds or raw patches of skin can often become infected and need to be treated signs that an area of skin has become infected include heat or redness around the area but redness can be harder to see on brown and black skin the area leaking pus or a watery discharge crusting on the surface of the wound a wound not healing a red streak or line spreading away from a blister or a collection of blisters a high temperature if you think your child has a skin infection let your gp know as soon as possible left untreated a skin infection can often quickly spread to other parts of the body particularly with the more severe forms of eb treatment for skin infections include antiseptic creams or ointments antibiotic creams or lotions antibiotic tablets specially designed dressings to help stimulate the healing process pain relief the blisters and wounds can be painful and make simple activities such as moving and walking difficult over the counter painkillers such as paracetamol might be enough for milder forms of eb for more severe types of eb stronger painkillers such as morphine may be needed either for background pain or for procedures like dressings changes or bathing children under the age of 16 should never be given aspirin as theres a small risk it could trigger a serious condition called reyes syndrome you may need stronger medicines such as amitriptyline or gabapentin for types of eb that cause long term pain dental care soreness caused by blisters inside your childs mouth can make cleaning their teeth difficult but good dental hygiene using a soft toothbrush and a mouthwash that contains fluoride as well as regular visits to a dentist is important nail care your childs fingernails and toenails may become thicker than normal and difficult to cut especially if blisters form under the nail your hospital team should be able to recommend creams that soften nails and make them easier to cut eye care children with severe types of eb can experience blistering and irritation in and around their eyes this usually requires treatment with eyedrops and ointments to keep the eyes moist feeding and nutrition if your baby has blisters in their mouth it can cause problems with feeding your treatment team can give you advice about how to overcome feeding problems for example feeding a baby or infant using a syringe eyedropper or artificial nipple adding liquid to mashed food to make it easier to swallow once your child is old enough to eat solids including lots of soft food in your childs diet not serving food too hot as it could cause further blistering if your child is older your treatment team can also give you advice about their diet the healing process makes great demands on the body and a healthy diet is important to help heal your childs skin wounds and avoid malnutrition your child may also need supplements in the form of milk based drinks or puddings that have high levels of protein and calories supplements of vitamins iron or zinc may also be required if theyre found to be deficient in these on blood tests your dietitian will be able to advise about this constipation is a common problem for children with eb because of blistering around the bottom which makes it painful to poo its also a side affect of some types of painkillers if your child regularly experiences constipation they may benefit from having a fibre supplement or laxative surgery surgery may be needed to treat some complications that can arise in severe cases of eb the different types of surgery are described below if your childs fingers and toes have become fused together by scar tissue creating a mitten effect surgery may be needed to separate them if your childs oesophagus the tube that connects the mouth and stomach has become narrowed by scarring surgery may be needed to widen it this is done by placing a balloon inside the oesophagus and inflating it to widen the narrowed area if your child is underweight and not growing properly because symptoms of eb make eating impossible surgery can be used to implant a feeding tube into their tummy research research is being carried out to try to find a cure or at least more effective treatments for eb initial results have been promising but it may take several years until researchers come up with safe and effective treatments the debra website has more information on current eb research and clinical trials page last reviewed 23 june 2021 next review due 23 june 2024\n",
            "Rank NR 3: dyslexia/diagnosis (score 0.04)\n",
            "NHS document:  dyslexia diagnosis nhs skip to main content diagnosis dyslexia the earlier a child with dyslexia is diagnosed the more effective educational interventions are likely to be but identifying dyslexia in young children can be difficult for both parents and teachers because the signs and symptoms are not always obvious if youre worried about your child if youre concerned about your childs progress with reading and writing first talk to their teacher you may also want to meet with other staff in the school if theres an ongoing concern take your child to see a gp it may be that your child has health problems that are affecting their ability to read or write for example they may have vision problems such as short sightedness or a squint hearing problems as the result of a condition such as glue ear other conditions such as attention deficit hyperactivity disorder adhd if your child does not have any obvious underlying health problems to explain their learning difficulties it may be that theyre not responding very well to the teaching method and a different approach may be needed dyslexia assessments if there are still concerns about your childs progress after they have received additional teaching and support it may be a good idea to have a dyslexia diagnostic assessment this can be carried out by an educational psychologist or an appropriately qualified specialist dyslexia teacher theyll be able to support you your child and your childs teachers by helping to improve the understanding of your childs learning difficulties and suggesting interventions that may help them find out more about diagnostic assessments from the british dyslexia association requesting an assessmentthere are various ways to request an assessment for your child although it can sometimes be a time consuming and frustrating process the first step is to meet your childs teacher and their schools special educational needs co ordinator senco to discuss your concerns and any interventions that have been tried already if your child continues to have difficulties despite interventions you can ask for them to be referred for assessment by a local authority educational psychologist or another specialist in dyslexia or you can approach an independent educational psychologist or another suitably qualified professional directly you can find a directory of chartered psychologists on the british psychological societys website you can also contact a national or local dyslexia association for help arranging an assessment the british dyslexia association bda has an individual assessment service for children and adults the assessment procedurebefore the assessment takes place you and your childs school may be sent a questionnaire that asks about your child and related issues such as the general state of their health how well they perform certain tasks what you think needs to change the assessment itself may involve observing your child in their learning environment talking with key adults involved with your childs learning and asking your child to take part in a series of tests these tests may examine your childs reading and writing abilities language development and vocabulary logical reasoning memory the speed they can process visual and auditory sound information organisational skills approaches to learning read about managing dyslexia for more information about educational interventions that may help what happens afterwardsafter your child has been assessed youll receive a report that outlines their strengths and weaknesses with recommendations of what could be done to improve areas theyre having difficulties with depending on the severity of your childs learning difficulties it may be possible for their difficulties to be managed through special educational needs support an action plan drawn up by their school and their parents read more about special educational needs support on govuk in a small number of cases where a childs difficulties do not improve and progress does not seem to be made you may want to request your local council do a fuller assessment that covers all aspects of your childs development called an educational health and care ehc assessment if the assessment shows your child needs more special education support they may have an educational plan made for them known as an education health and care ehc plan this sets out what your childs educational needs are and the support required to meet those needs in a document thats reviewed formally every year find out more information from govuk about children with special educational needs and disabilities send page last reviewed 07 march 2022 next review due 07 march 2025\n"
          ]
        }
      ]
    },
    {
      "cell_type": "code",
      "source": [
        "rg= evaluate.load(\"rouge\")\n",
        "sm = SmoothingFunction().method"
      ],
      "metadata": {
        "id": "1B6BKrfJg-uj"
      },
      "execution_count": null,
      "outputs": []
    },
    {
      "cell_type": "markdown",
      "source": [
        "Section 4.2: Computing Performance metrics for TF-IDF"
      ],
      "metadata": {
        "id": "92uArEBFpEln"
      }
    },
    {
      "cell_type": "code",
      "source": [
        "#Function computing recall pformance at a specified\n",
        "def recallk(d, k=1):\n",
        "    \"\"\" Function calculcating the TF-IDF output, at a specified k(document ranking,\n",
        "        with 1 being top ranked document based on cosine similarity)  \"\"\"\n",
        "    cm = 0\n",
        "    pateint_ques= d[\"question\"].tolist()\n",
        "    true_labels = d[\"disease\"].tolist()\n",
        "    for question, true_label in zip(pateint_ques, true_labels):\n",
        "        t_k = [label for label, _, _ in retk_docs(question, k=k)]\n",
        "        if true_label in t_k:\n",
        "          cm  += 1\n",
        "    return cm/len(d)\n",
        "\n",
        "#applying the recallk function to calculate the recall pefromance at k1 and 3 (documents ranked)\n",
        "r_ranked1 = recallk(test_ds_idf_copy, k=1)\n",
        "r_ranked3 = recallk(test_ds_idf_copy, k=3)\n",
        "#Calculating the Precion,recall and f1 scors, treating dieases as classes\n",
        "yt= test_ds_idf_copy[\"disease\"].tolist()\n",
        "yp =[retk_docs(q, k=1)[0][0] for q in test_ds_idf_copy[\"question\"].tolist()]\n",
        "p1 =precision_score(yt, yp, average=\"micro\")\n",
        "r1c = recall_score(yt, yp, average=\"micro\")\n",
        "f1   = f1_score(yt, yp, average=\"micro\")\n",
        "#Inlcuding top retreived documents into the test set\n",
        "test_ds_idf_copy[\"tfidf_prediction\"] = [retk_docs(q, k=1)[0][1]  for q in test_ds_idf_copy[\"question\"]]\n",
        "#Computing the Rouge scores\n",
        "pred_ = test_ds_idf_copy[\"tfidf_prediction\"].tolist()\n",
        "ref_s  = test_ds_idf_copy[\"answer\"].tolist()\n",
        "rg_scored = rg.compute(predictions=pred_, references=ref_s,rouge_types=[\"rouge1\",\"rouge2\",\"rougeL\"],use_stemmer=True)\n",
        "#Computing the bleu scores\n",
        "bl_score = [sentence_bleu([ref.split()], pred.split(),weights=(.25,.25,.25,.25),smoothing_function=sm) for pred, ref in zip(pred_,ref_s)]\n",
        "mean_bleu = sum(bl_score) / len(bl_score)\n",
        "# Preparing the results for display analysis formmat\n",
        "tfidf_R = {\"Recall k1\": r_ranked1,\n",
        "           \"Recall k3\":r_ranked3,\n",
        "           \"Precision k1\": p1,\n",
        "           \"Recall (class 1)\": r1c,\n",
        "           \"F1 score (class 1)\": f1,\n",
        "           \"Rouge 1\": rg_scored[\"rouge1\"],\n",
        "           \"Rouge 2\": rg_scored[\"rouge2\"],\n",
        "           \"Rouge L\": rg_scored[\"rougeL\"],\n",
        "           \"Bleu-4\": mean_bleu}\n",
        "print(tfidf_R )\n",
        "#Downloading and printingthe results\n",
        "pd.DataFrame([tfidf_R]).to_csv(\"tfidfeval.csv\", index=False)\n",
        "files.download(\"tfidfeval.csv\")"
      ],
      "metadata": {
        "colab": {
          "base_uri": "https://localhost:8080/",
          "height": 17
        },
        "id": "V8fYivglxJpV",
        "outputId": "6e0c8bba-e7f1-44c9-a1cc-0a7c42d5fb73"
      },
      "execution_count": null,
      "outputs": [
        {
          "output_type": "display_data",
          "data": {
            "text/plain": [
              "<IPython.core.display.Javascript object>"
            ],
            "application/javascript": [
              "\n",
              "    async function download(id, filename, size) {\n",
              "      if (!google.colab.kernel.accessAllowed) {\n",
              "        return;\n",
              "      }\n",
              "      const div = document.createElement('div');\n",
              "      const label = document.createElement('label');\n",
              "      label.textContent = `Downloading \"${filename}\": `;\n",
              "      div.appendChild(label);\n",
              "      const progress = document.createElement('progress');\n",
              "      progress.max = size;\n",
              "      div.appendChild(progress);\n",
              "      document.body.appendChild(div);\n",
              "\n",
              "      const buffers = [];\n",
              "      let downloaded = 0;\n",
              "\n",
              "      const channel = await google.colab.kernel.comms.open(id);\n",
              "      // Send a message to notify the kernel that we're ready.\n",
              "      channel.send({})\n",
              "\n",
              "      for await (const message of channel.messages) {\n",
              "        // Send a message to notify the kernel that we're ready.\n",
              "        channel.send({})\n",
              "        if (message.buffers) {\n",
              "          for (const buffer of message.buffers) {\n",
              "            buffers.push(buffer);\n",
              "            downloaded += buffer.byteLength;\n",
              "            progress.value = downloaded;\n",
              "          }\n",
              "        }\n",
              "      }\n",
              "      const blob = new Blob(buffers, {type: 'application/binary'});\n",
              "      const a = document.createElement('a');\n",
              "      a.href = window.URL.createObjectURL(blob);\n",
              "      a.download = filename;\n",
              "      div.appendChild(a);\n",
              "      a.click();\n",
              "      div.remove();\n",
              "    }\n",
              "  "
            ]
          },
          "metadata": {}
        },
        {
          "output_type": "display_data",
          "data": {
            "text/plain": [
              "<IPython.core.display.Javascript object>"
            ],
            "application/javascript": [
              "download(\"download_e5ebb310-6978-43e3-bb29-569594db8d9a\", \"tfidfeval.csv\", 275)"
            ]
          },
          "metadata": {}
        }
      ]
    },
    {
      "cell_type": "markdown",
      "source": [
        "## Section 5: T5-small pre-processing\n",
        "\n"
      ],
      "metadata": {
        "id": "YmEgfmU5v3pj"
      }
    },
    {
      "cell_type": "code",
      "source": [
        "##Please note: Adapt the local directiory to run the subsequent script\n",
        "#Reloading the datasets used for T5 fine-tuning\n",
        "train_t5_df = pd.read_csv(\"/content/drive/My Drive/Colab Notebooks/AMLH-NLP EHR/patient_qa_train.csv\",sep=\",\", dtype=str)\n",
        "test_t5_df = pd.read_csv(\"/content/drive/My Drive/Colab Notebooks/AMLH-NLP EHR/patient_qa_test.csv\",sep=\",\", dtype=str)\n",
        "T5_NHS_documents = Path(\"/content/drive/My Drive/Colab Notebooks/AMLH-NLP EHR/db_nhs_qa\")"
      ],
      "metadata": {
        "id": "yCbJs0NVOFN5"
      },
      "execution_count": null,
      "outputs": []
    },
    {
      "cell_type": "code",
      "source": [
        "# Importing the model and its tokeniser\n",
        "t5_m = \"t5-small\"\n",
        "tokense_t5 = AutoTokenizer.from_pretrained(t5_m)\n",
        "model = T5ForConditionalGeneration.from_pretrained(t5_m)\n",
        "\n",
        "#Setting up t5s purpose as the model has different tasks/functions it can be set to:\n",
        "if t5_m  in [\"t5-small\"]:\n",
        "    prefix = \"question \"\n",
        "else:\n",
        "    prefix = \"\""
      ],
      "metadata": {
        "colab": {
          "base_uri": "https://localhost:8080/"
        },
        "id": "Pty73kiLNxQF",
        "outputId": "a1039080-9bfe-478b-c768-727fd0aea438"
      },
      "execution_count": null,
      "outputs": [
        {
          "output_type": "stream",
          "name": "stderr",
          "text": [
            "/usr/local/lib/python3.11/dist-packages/huggingface_hub/utils/_auth.py:94: UserWarning: \n",
            "The secret `HF_TOKEN` does not exist in your Colab secrets.\n",
            "To authenticate with the Hugging Face Hub, create a token in your settings tab (https://huggingface.co/settings/tokens), set it as secret in your Google Colab and restart your session.\n",
            "You will be able to reuse this secret in all of your notebooks.\n",
            "Please note that authentication is recommended but still optional to access public models or datasets.\n",
            "  warnings.warn(\n"
          ]
        }
      ]
    },
    {
      "cell_type": "code",
      "source": [
        "#Standardsiging/cleaning the text for T5-fine tuning\n",
        "#lowecasing and removing white spaces\n",
        "def T5_standardisation_txt(T5txt_for_standard):\n",
        "  \"\"\" The following function ensures efficient cleaning of text,\n",
        "      hereby lowercasing and unnesssary whitespaces: A step needed for the T5 model\"\"\"\n",
        "  T5txt_for_standard= T5txt_for_standard.lower()\n",
        "  T5txt_for_standard= re.sub(r'\\s+', ' ', T5txt_for_standard).strip()\n",
        "  return T5txt_for_standard\n",
        "\n",
        "#Aplying this standardisation function to relavant columns\n",
        "train_t5_df[\"question_clean\"]= train_t5_df[\"question\"].apply(T5_standardisation_txt)\n",
        "train_t5_df[\"answer_clean\"]= train_t5_df[\"answer\"].apply(T5_standardisation_txt)\n",
        "train_t5_df[\"disease_clean\"] = train_t5_df[\"disease\"].apply(T5_standardisation_txt)\n",
        "# test_t5_df[\"question_clean\"]= test_t5_df[\"question\"].apply(T5_standardisation_txt) #Not apllied to improve model generalisaiton abbillty\n",
        "# test_t5_df[\"answer_clean\"]= test_t5_df[\"answer\"].apply(T5_standardisation_txt)"
      ],
      "metadata": {
        "id": "dFLsdmjkPUwm"
      },
      "execution_count": null,
      "outputs": []
    },
    {
      "cell_type": "code",
      "source": [
        "unique_diseases = train_t5_df[\"disease_clean\"].unique()\n",
        "print(\"Nr unique diseases\", len(unique_diseases))"
      ],
      "metadata": {
        "colab": {
          "base_uri": "https://localhost:8080/"
        },
        "id": "2g-S1ajCDS1T",
        "outputId": "cbb8f5b8-d598-41ff-ae37-4385654e2110"
      },
      "execution_count": null,
      "outputs": [
        {
          "output_type": "stream",
          "name": "stdout",
          "text": [
            "Nr unique diseases 2392\n"
          ]
        }
      ]
    },
    {
      "cell_type": "code",
      "source": [
        "search_data_dir = T5_NHS_documents\n",
        "# Standardising file naames\n",
        "def safe_filename(name):\n",
        "    return re.sub(r'[^\\w\\-_. ]', '_', name).strip().replace(\" \", \"_\") + \".txt\"\n",
        "# Index all available .txt files in the folder\n",
        "file_index = {fn.name.lower(): fn for fn in T5_NHS_documents.iterdir() if fn.suffix == \".txt\"}\n",
        "#Creating the corpus and mapping each disease to the corresponding documents\n",
        "cor_txt = {}\n",
        "missed_desiease = []\n",
        "for disease in train_t5_df[\"disease_clean\"].unique():\n",
        "    fname = safe_filename(disease)\n",
        "    if fname in file_index:\n",
        "      cor_txt[disease]= file_index[fname].read_text(encoding=\"utf-8\")\n",
        "    else:\n",
        "        missed_desiease.append(disease)\n",
        "train_t5_df[\"NHS_docuemntsclean\"] = train_t5_df[\"disease_clean\"].map(cor_txt)\n",
        "\n",
        "# Creating the inputs for t5 in the appropriate dataframe\n",
        "train_t5_df[\"target_text\"] = train_t5_df[\"answer_clean\"]\n",
        "train_t5_df[\"input_text\"] = train_t5_df.apply(lambda row: f\"question: {row['question_clean']} context: {row['NHS_docuemntsclean']}\", axis=1)"
      ],
      "metadata": {
        "id": "lq9yYiOGRFjz"
      },
      "execution_count": null,
      "outputs": []
    },
    {
      "cell_type": "code",
      "source": [
        "#splitting the training data into a 80/20 training, validation set split\n",
        "train_T5, val_T5 = train_test_split(train_t5_df[[\"input_text\", \"target_text\", \"disease_clean\"]], test_size=0.2, stratify=train_t5_df[\"disease_clean\"], random_state=42)"
      ],
      "metadata": {
        "id": "tn2d4phUZxnL"
      },
      "execution_count": null,
      "outputs": []
    },
    {
      "cell_type": "code",
      "source": [
        "max_doc_len = 512\n",
        "max_sum_length = 64\n",
        "prefix = \"question: \"\n",
        "\n",
        "def preprocesssamples(samples):\n",
        "    inputs = [prefix + doc for doc in samples[\"input_text\"]] #Adding the prefix here\n",
        "    # Tokenising the input\n",
        "    model_inputs = tokense_t5(inputs, max_length=max_doc_len, truncation=True, padding=\"max_length\")\n",
        "    #tokenising the labels\n",
        "    with tokense_t5.as_target_tokenizer():\n",
        "      targets = tokense_t5(text_target = samples[\"target_text\"], max_length=max_sum_length, truncation=True, padding=\"max_length\")\n",
        "      model_inputs[\"labels\"] = targets[\"input_ids\"]\n",
        "      return model_inputs\n",
        "\n",
        "# Converting to hugging face dataset\n",
        "train_T5_ = Dataset.from_pandas(train_T5[[\"input_text\", \"target_text\"]].reset_index(drop=True))\n",
        "val_T5_ = Dataset.from_pandas(val_T5[[\"input_text\", \"target_text\"]].reset_index(drop=True))\n",
        "\n",
        "#Appplyign the preprocesssamples function\n",
        "token_train_T5_final = train_T5_.map(preprocesssamples, batched=True)\n",
        "token_val_T5_final = val_T5_.map(preprocesssamples, batched=True)\n",
        "print(token_train_T5_final[0])"
      ],
      "metadata": {
        "colab": {
          "base_uri": "https://localhost:8080/",
          "height": 155,
          "referenced_widgets": [
            "02622556c4cd444cb09dbcc142458e3d",
            "fd442ef5dd3842e2ae13bb1ce027306d",
            "2988eb0853cd4884ba3bb2aff3ccd1dc",
            "c785e9a95f35480ea142e05f0c2a4370",
            "6e438fd3470f468c8225bb2d47167dd6",
            "32613fde1663403fa61b8f56d54a7dd7",
            "332c5f5d7ecc4e59894eb6f543c14820",
            "36bab2a67c7a4f0087bdf9b109904c8d",
            "71675096592044fea7b927bf58a4a852",
            "33ba5ebc261d4e789fd440af69302a57",
            "454abacc53cb4ed191b32ca2a505add8",
            "7abc652238ef4f9a9a43f7a09a7f393b",
            "6c35b11496fb4e34ac0dd9b3d200cd85",
            "e81e07713cb24662a3a7dac554f61ad5",
            "e03f72abe8ad4357b5eb45aca30b484b",
            "9fe661f9031941fda4fa8823430653fc",
            "c652329ce12444868bcfe473d224f2a2",
            "c2bb883456af48a38c02acc7c0fd2199",
            "a115f6028b3642769036e451a30b6906",
            "6dd4da8fce4c4edcafcaa8cba0baa53b",
            "c0a29e5acf7b430fa8a79f11111b797c",
            "579384d02ca24bd6af59ba8d76eff7b4"
          ]
        },
        "id": "2577TJFPVd7a",
        "outputId": "239da129-dc58-4cc2-8abe-d04f1ff25360"
      },
      "execution_count": null,
      "outputs": [
        {
          "output_type": "display_data",
          "data": {
            "text/plain": [
              "Map:   0%|          | 0/19204 [00:00<?, ? examples/s]"
            ],
            "application/vnd.jupyter.widget-view+json": {
              "version_major": 2,
              "version_minor": 0,
              "model_id": "02622556c4cd444cb09dbcc142458e3d"
            }
          },
          "metadata": {}
        },
        {
          "output_type": "stream",
          "name": "stderr",
          "text": [
            "/usr/local/lib/python3.11/dist-packages/transformers/tokenization_utils_base.py:3951: UserWarning: `as_target_tokenizer` is deprecated and will be removed in v5 of Transformers. You can tokenize your labels by using the argument `text_target` of the regular `__call__` method (either in the same call as your input texts if you use the same keyword arguments, or in a separate call.\n",
            "  warnings.warn(\n"
          ]
        },
        {
          "output_type": "display_data",
          "data": {
            "text/plain": [
              "Map:   0%|          | 0/4801 [00:00<?, ? examples/s]"
            ],
            "application/vnd.jupyter.widget-view+json": {
              "version_major": 2,
              "version_minor": 0,
              "model_id": "7abc652238ef4f9a9a43f7a09a7f393b"
            }
          },
          "metadata": {}
        },
        {
          "output_type": "stream",
          "name": "stdout",
          "text": [
            "{'input_text': \"question: what are the advantages of a mechanical valve for aortic valve replacement? context: \\ufeff\\n\\nAortic valve replacement - What happens\\n - NHS\\n\\nSkip to main content\\n\\nWhat happens\\n \\n - \\n Aortic valve replacement\\n \\n\\nAn aortic valve replacement is a major operation and will only be carried out if you're well enough to have surgery.\\n\\nPreparing for the operationIn the weeks before the procedure, you'll attend a pre-admission clinic for an assessment to check whether the operation is suitable.\\nThis is also a good time to ask any questions you have about the procedure.\\nAs part of this assessment, you may:\\nhave a physical examination\\nbe asked about your medical history, including any medication you're taking, any\\xa0allergies you have and whether you have had a reaction to\\xa0anaesthesia in the past\\nhave\\xa0tests to check your general and heart health –\\xa0these\\xa0may include a blood test,\\xa0X-ray,\\xa0electrocardiogram (ECG) and echocardiogram\\nIf you smoke, you'll be advised to stop in the lead up to your operation because this can reduce the\\xa0risk\\xa0of complications.\\xa0\\nYou should be told when you need to stop eating and drinking before the procedure.\\nWhen you\\xa0have the operation, it's likely you'll be in hospital for about a week, so you'll need to make some practical preparations in advance.\\nThese include bringing clothes, toiletries and any equipment you use, such as a walking stick or hearing aid.\\nRead more about\\xa0going into hospital and preparing for surgery.\\n\\nThe operationAn aortic valve replacement is carried out under general anaesthetic.\\nThis means you'll be asleep during the operation and won't feel any pain while it's carried out. The operation usually lasts a few hours.\\nDuring the procedure:\\na large cut (incision) around 25cm long will be made along the middle of your breastbone to allow the surgeon access to your heart, although in some cases a smaller cut may be made\\ntubes are inserted into your heart and major blood vessels, which are attached to a heart-lung (bypass) machine\\xa0– this will take over the job of your heart during the operation\\nmedication is used to stop your heart and\\xa0your main artery (aorta) is clamped shut\\xa0– this allows\\xa0your surgeon\\xa0to open your heart and operate on it without blood pumping through\\nthe aorta is opened up and the damaged aortic valve is removed\\nthe\\xa0new valve is\\xa0sewn in place with a fine thread\\nyour heart is started\\xa0again using controlled electric shocks before you're taken\\xa0off the bypass machine\\nyour breastbone is joined up\\xa0with wires, and the wound on your chest closed using dissolvable stitches\\n\\nChoice of valve replacementBefore having an aortic valve replacement, you'll need to decide\\xa0on the most suitable type of replacement valve for you.\\nThere are 2 main types of replacement valve:\\nmechanical valves\\xa0made of\\xa0synthetic materials\\nbiological valves made of animal tissue\\nEach type has\\xa0advantages and disadvantages, which your doctor will discuss with you.\\nMechanical valvesThe main advantage of mechanical valves is that they're hard-wearing and less likely to need replacing.\\nThis means they're often better for younger people having a valve replacement.\\nBut there's a tendency for potentially dangerous\\xa0blood\\xa0clots to form\\xa0on the valve, so lifelong treatment with anticoagulant medicine such as\\xa0warfarin is needed to prevent this.\\nThis will increase the chances of excessive bleeding from a cut or injury, particularly as you get older, and may not be suitable if you have had significant bleeding problems in the past.\\nMechanical valves can also make a quiet clicking noise, which can be disturbing at first,\\xa0but is easy to get used to.\\nBiological valves\\xa0The main advantage of biological valves is that there's less risk of clots forming, so lifelong anticoagulant treatment isn't usually necessary.\\nBut biological valves tend to\\xa0wear out a bit faster than mechanical valves and may eventually need to be replaced after many years.\\nThis means they're often better for older people having\\xa0a valve replacement.\\n\\n Page last reviewed: 23 December 2021\\n Next review due: 23 December 2024\", 'target_text': 'the main advantage of mechanical valves is that they are hard-wearing and less likely to need replacing, which is beneficial for younger people.', 'input_ids': [822, 10, 822, 10, 125, 33, 8, 7648, 13, 3, 9, 8168, 9522, 21, 3, 9, 127, 1225, 9522, 3709, 58, 2625, 10, 71, 127, 1225, 9522, 3709, 3, 18, 363, 2906, 3, 18, 17804, 25378, 12, 711, 738, 363, 2906, 3, 18, 71, 127, 1225, 9522, 3709, 389, 3, 9, 127, 1225, 9522, 3709, 19, 3, 9, 779, 2986, 11, 56, 163, 36, 4006, 91, 3, 99, 25, 31, 60, 168, 631, 12, 43, 3730, 5, 1266, 1893, 53, 21, 8, 2986, 1570, 8, 1274, 274, 8, 3979, 6, 25, 31, 195, 2467, 3, 9, 554, 18, 9, 26, 5451, 5998, 21, 46, 4193, 12, 691, 823, 8, 2986, 19, 3255, 5, 100, 19, 92, 3, 9, 207, 97, 12, 987, 136, 746, 25, 43, 81, 8, 3979, 5, 282, 294, 13, 48, 4193, 6, 25, 164, 10, 43, 3, 9, 1722, 6498, 36, 1380, 81, 39, 1035, 892, 6, 379, 136, 7757, 25, 31, 60, 838, 6, 136, 18500, 25, 43, 11, 823, 25, 43, 141, 3, 9, 6363, 12, 46, 9, 23220, 16, 8, 657, 43, 3830, 12, 691, 39, 879, 11, 842, 533, 3, 104, 175, 164, 560, 3, 9, 1717, 794, 6, 3, 4, 18, 2866, 6, 9281, 16464, 16275, 41, 3073, 517, 61, 11, 20747, 16464, 16275, 156, 25, 7269, 6, 25, 31, 195, 36, 10058, 12, 1190, 16, 8, 991, 95, 12, 39, 2986, 250, 48, 54, 1428, 8, 1020, 13, 14497, 5, 148, 225, 36, 1219, 116, 25, 174, 12, 1190, 3182, 11, 6663, 274, 8, 3979, 5, 366, 25, 43, 8, 2986, 6, 34, 31, 7, 952, 25, 31, 195, 36, 16, 2833, 21, 81, 3, 9, 471, 6, 78, 25, 31, 195, 174, 12, 143, 128, 3236, 4537, 7, 16, 3245, 5, 506, 560, 3, 3770, 4954, 6, 6699, 2593, 11, 136, 1277, 25, 169, 6, 224, 38, 3, 9, 3214, 4372, 42, 3507, 3052, 5, 3403, 72, 81, 352, 139, 2833, 11, 3, 6955, 21, 3730, 5, 37, 2986, 188, 29, 3, 9, 127, 1225, 9522, 3709, 19, 4006, 91, 365, 879, 46, 9, 15, 7, 17194, 5, 100, 598, 25, 31, 195, 36, 17915, 383, 8, 2986, 11, 751, 31, 17, 473, 136, 1406, 298, 34, 31, 7, 4006, 91, 5, 37, 2986, 1086, 336, 7, 3, 9, 360, 716, 5, 3, 2092, 8, 3979, 10, 3, 9, 508, 1340, 41, 77, 18901, 61, 300, 944, 75, 51, 307, 56, 36, 263, 590, 8, 2214, 13, 39, 6748, 12269, 12, 995, 8, 12177, 592, 12, 39, 842, 6, 2199, 16, 128, 1488, 3, 9, 2755, 1340, 164, 36, 263, 17927, 33, 3, 19435, 139, 39, 842, 11, 779, 1717, 12979, 6, 84, 33, 5223, 12, 3, 9, 842, 18, 6521, 41, 969, 3968, 61, 1437, 3, 104, 48, 56, 240, 147, 8, 613, 13, 39, 842, 383, 8, 2986, 7757, 19, 261, 12, 1190, 39, 842, 11, 39, 711, 3, 27845, 41, 9, 127, 17, 9, 61, 19, 20084, 15, 26, 6979, 3, 104, 48, 1250, 39, 12177, 12, 539, 39, 842, 11, 4368, 30, 34, 406, 1717, 5013, 1], 'attention_mask': [1, 1, 1, 1, 1, 1, 1, 1, 1, 1, 1, 1, 1, 1, 1, 1, 1, 1, 1, 1, 1, 1, 1, 1, 1, 1, 1, 1, 1, 1, 1, 1, 1, 1, 1, 1, 1, 1, 1, 1, 1, 1, 1, 1, 1, 1, 1, 1, 1, 1, 1, 1, 1, 1, 1, 1, 1, 1, 1, 1, 1, 1, 1, 1, 1, 1, 1, 1, 1, 1, 1, 1, 1, 1, 1, 1, 1, 1, 1, 1, 1, 1, 1, 1, 1, 1, 1, 1, 1, 1, 1, 1, 1, 1, 1, 1, 1, 1, 1, 1, 1, 1, 1, 1, 1, 1, 1, 1, 1, 1, 1, 1, 1, 1, 1, 1, 1, 1, 1, 1, 1, 1, 1, 1, 1, 1, 1, 1, 1, 1, 1, 1, 1, 1, 1, 1, 1, 1, 1, 1, 1, 1, 1, 1, 1, 1, 1, 1, 1, 1, 1, 1, 1, 1, 1, 1, 1, 1, 1, 1, 1, 1, 1, 1, 1, 1, 1, 1, 1, 1, 1, 1, 1, 1, 1, 1, 1, 1, 1, 1, 1, 1, 1, 1, 1, 1, 1, 1, 1, 1, 1, 1, 1, 1, 1, 1, 1, 1, 1, 1, 1, 1, 1, 1, 1, 1, 1, 1, 1, 1, 1, 1, 1, 1, 1, 1, 1, 1, 1, 1, 1, 1, 1, 1, 1, 1, 1, 1, 1, 1, 1, 1, 1, 1, 1, 1, 1, 1, 1, 1, 1, 1, 1, 1, 1, 1, 1, 1, 1, 1, 1, 1, 1, 1, 1, 1, 1, 1, 1, 1, 1, 1, 1, 1, 1, 1, 1, 1, 1, 1, 1, 1, 1, 1, 1, 1, 1, 1, 1, 1, 1, 1, 1, 1, 1, 1, 1, 1, 1, 1, 1, 1, 1, 1, 1, 1, 1, 1, 1, 1, 1, 1, 1, 1, 1, 1, 1, 1, 1, 1, 1, 1, 1, 1, 1, 1, 1, 1, 1, 1, 1, 1, 1, 1, 1, 1, 1, 1, 1, 1, 1, 1, 1, 1, 1, 1, 1, 1, 1, 1, 1, 1, 1, 1, 1, 1, 1, 1, 1, 1, 1, 1, 1, 1, 1, 1, 1, 1, 1, 1, 1, 1, 1, 1, 1, 1, 1, 1, 1, 1, 1, 1, 1, 1, 1, 1, 1, 1, 1, 1, 1, 1, 1, 1, 1, 1, 1, 1, 1, 1, 1, 1, 1, 1, 1, 1, 1, 1, 1, 1, 1, 1, 1, 1, 1, 1, 1, 1, 1, 1, 1, 1, 1, 1, 1, 1, 1, 1, 1, 1, 1, 1, 1, 1, 1, 1, 1, 1, 1, 1, 1, 1, 1, 1, 1, 1, 1, 1, 1, 1, 1, 1, 1, 1, 1, 1, 1, 1, 1, 1, 1, 1, 1, 1, 1, 1, 1, 1, 1, 1, 1, 1, 1, 1, 1, 1, 1, 1, 1, 1, 1, 1, 1, 1, 1, 1, 1, 1, 1, 1, 1, 1, 1, 1, 1, 1, 1, 1, 1, 1, 1, 1, 1, 1, 1, 1, 1, 1, 1, 1, 1, 1, 1, 1, 1, 1, 1, 1, 1, 1, 1, 1], 'labels': [8, 711, 2337, 13, 8168, 9522, 7, 19, 24, 79, 33, 614, 18, 7258, 53, 11, 705, 952, 12, 174, 11906, 6, 84, 19, 6473, 21, 5868, 151, 5, 1, 0, 0, 0, 0, 0, 0, 0, 0, 0, 0, 0, 0, 0, 0, 0, 0, 0, 0, 0, 0, 0, 0, 0, 0, 0, 0, 0, 0, 0, 0, 0, 0, 0, 0]}\n"
          ]
        }
      ]
    },
    {
      "cell_type": "markdown",
      "source": [
        "## Section 6: Fine-tuninig T5-small & Evaluating\n"
      ],
      "metadata": {
        "id": "TsQtPgWlJZmA"
      }
    },
    {
      "cell_type": "code",
      "source": [
        "import torch\n",
        "device = torch.device(\"cuda\" if torch.cuda.is_available() else \"cpu\") #Manually swtiched to in google collab\n",
        "data_collator = DataCollatorForSeq2Seq(tokenizer=tokense_t5, model=model)\n",
        "\n",
        "#Detailling the necessary training condtionons, justified and furhter dicussed in sections 2.1.3 & 2.2.2 in the correspoding report\n",
        "batchsize = 8\n",
        "trainargs = Seq2SeqTrainingArguments(output_dir=\"./t5_qa_model\",\n",
        "                                     eval_strategy = \"epoch\",\n",
        "                                     learning_rate=2e-5,\n",
        "                                     per_device_train_batch_size=batchsize,\n",
        "                                     per_device_eval_batch_size=batchsize,\n",
        "                                     weight_decay=0.01,\n",
        "                                     save_total_limit=2,\n",
        "                                     num_train_epochs=6,\n",
        "                                     predict_with_generate=True,\n",
        "                                     push_to_hub=False,\n",
        "                                     report_to=\"none\",\n",
        "                                     logging_dir=\"./logs\",\n",
        "                                     logging_steps=10,\n",
        "                                     save_strategy=\"epoch\",\n",
        "                                     metric_for_best_model=\"eval_loss\",\n",
        "                                     greater_is_better=False,)"
      ],
      "metadata": {
        "id": "6PrsnedXIheo"
      },
      "execution_count": null,
      "outputs": []
    },
    {
      "cell_type": "markdown",
      "source": [],
      "metadata": {
        "id": "3r52uL6Ik7hF"
      }
    },
    {
      "cell_type": "code",
      "source": [
        "def model_init():\n",
        "    return AutoModelForSeq2SeqLM.from_pretrained(\"t5-small\")"
      ],
      "metadata": {
        "id": "wUP9SymENKVY"
      },
      "execution_count": null,
      "outputs": []
    },
    {
      "cell_type": "code",
      "source": [
        "# Setting up & training th t5 small model, thereby evaluation metrics as well\n",
        "t5trainer= Seq2SeqTrainer(\n",
        "    model_init=model_init,\n",
        "    args=trainargs,\n",
        "    train_dataset=token_train_T5_final,\n",
        "    eval_dataset=token_val_T5_final,\n",
        "    tokenizer=tokense_t5,\n",
        "    data_collator=data_collator,\n",
        "    callbacks=[EarlyStoppingCallback(early_stopping_patience=2)])\n",
        "t5trainer.train() #training the model here"
      ],
      "metadata": {
        "colab": {
          "base_uri": "https://localhost:8080/",
          "height": 391
        },
        "id": "fI2f3bXVuNcj",
        "outputId": "5052f1b7-39a1-4908-cd43-d5d180e97d91"
      },
      "execution_count": null,
      "outputs": [
        {
          "output_type": "stream",
          "name": "stderr",
          "text": [
            "/tmp/ipython-input-24-942816049.py:2: FutureWarning: `tokenizer` is deprecated and will be removed in version 5.0.0 for `Seq2SeqTrainer.__init__`. Use `processing_class` instead.\n",
            "  t5trainer= Seq2SeqTrainer(\n",
            "Using EarlyStoppingCallback without load_best_model_at_end=True. Once training is finished, the best model will not be loaded automatically.\n",
            "Passing a tuple of `past_key_values` is deprecated and will be removed in Transformers v4.48.0. You should pass an instance of `EncoderDecoderCache` instead, e.g. `past_key_values=EncoderDecoderCache.from_legacy_cache(past_key_values)`.\n"
          ]
        },
        {
          "output_type": "display_data",
          "data": {
            "text/plain": [
              "<IPython.core.display.HTML object>"
            ],
            "text/html": [
              "\n",
              "    <div>\n",
              "      \n",
              "      <progress value='14406' max='14406' style='width:300px; height:20px; vertical-align: middle;'></progress>\n",
              "      [14406/14406 1:22:33, Epoch 6/6]\n",
              "    </div>\n",
              "    <table border=\"1\" class=\"dataframe\">\n",
              "  <thead>\n",
              " <tr style=\"text-align: left;\">\n",
              "      <th>Epoch</th>\n",
              "      <th>Training Loss</th>\n",
              "      <th>Validation Loss</th>\n",
              "    </tr>\n",
              "  </thead>\n",
              "  <tbody>\n",
              "    <tr>\n",
              "      <td>1</td>\n",
              "      <td>1.545600</td>\n",
              "      <td>1.481636</td>\n",
              "    </tr>\n",
              "    <tr>\n",
              "      <td>2</td>\n",
              "      <td>1.464400</td>\n",
              "      <td>1.444403</td>\n",
              "    </tr>\n",
              "    <tr>\n",
              "      <td>3</td>\n",
              "      <td>1.466400</td>\n",
              "      <td>1.419544</td>\n",
              "    </tr>\n",
              "    <tr>\n",
              "      <td>4</td>\n",
              "      <td>1.440500</td>\n",
              "      <td>1.408478</td>\n",
              "    </tr>\n",
              "    <tr>\n",
              "      <td>5</td>\n",
              "      <td>1.678800</td>\n",
              "      <td>1.402640</td>\n",
              "    </tr>\n",
              "    <tr>\n",
              "      <td>6</td>\n",
              "      <td>1.453500</td>\n",
              "      <td>1.399771</td>\n",
              "    </tr>\n",
              "  </tbody>\n",
              "</table><p>"
            ]
          },
          "metadata": {}
        },
        {
          "output_type": "execute_result",
          "data": {
            "text/plain": [
              "TrainOutput(global_step=14406, training_loss=1.5663738258676398, metrics={'train_runtime': 4955.2322, 'train_samples_per_second': 23.253, 'train_steps_per_second': 2.907, 'total_flos': 1.5594623732809728e+16, 'train_loss': 1.5663738258676398, 'epoch': 6.0})"
            ]
          },
          "metadata": {},
          "execution_count": 24
        }
      ]
    },
    {
      "cell_type": "code",
      "source": [
        "# Visulalising the Loss overtime during training per epoch, for the trainign and validation set\n",
        "epoc = [1, 2, 3, 4, 5, 6]\n",
        "obtained_trainloss = [1.545600, 1.464400, 1.466400, 1.440500, 1.678800, 1.453500]\n",
        "obtained_vlalloss = [1.481636, 1.444403, 1.419544, 1.408478, 1.402640, 1.399771]\n",
        "#Customising and plotting the training versus validation loss\n",
        "plt.figure(figsize=(8, 5))\n",
        "plt.plot(epoc,obtained_trainloss, marker='o',color='blue',label='T5-Small Training Loss')\n",
        "plt.plot(epoc,obtained_vlalloss, marker='o', color='pink', label=' T5-Small Validation Loss')\n",
        "plt.xlabel('Number of Training Epochs Conducted')\n",
        "plt.ylabel('Cross-Entropy Loss')\n",
        "plt.title('Training vs Validation Loss of fine-tuned T5-Small over 6 Epochs')\n",
        "plt.xticks(epoc)\n",
        "plt.legend()\n",
        "plt.grid(True)\n",
        "plt.tight_layout()\n",
        "plt.show()"
      ],
      "metadata": {
        "colab": {
          "base_uri": "https://localhost:8080/",
          "height": 507
        },
        "id": "VI-5fkBau1wO",
        "outputId": "b6f4e1bb-7742-4e54-b888-f549cfe84f6f"
      },
      "execution_count": null,
      "outputs": [
        {
          "output_type": "display_data",
          "data": {
            "text/plain": [
              "<Figure size 800x500 with 1 Axes>"
            ],
            "image/png": "[encoded data removed]"
          },
          "metadata": {}
        }
      ]
    },
    {
      "cell_type": "code",
      "source": [
        "print(trainargs.output_dir) # Checking where the model was put"
      ],
      "metadata": {
        "colab": {
          "base_uri": "https://localhost:8080/"
        },
        "id": "EZte-tRDBvbL",
        "outputId": "4586e9af-8368-40d8-f7e0-63c5fa4a6ce9"
      },
      "execution_count": null,
      "outputs": [
        {
          "output_type": "stream",
          "name": "stdout",
          "text": [
            "./t5_qa_model\n"
          ]
        }
      ]
    },
    {
      "cell_type": "code",
      "source": [
        "bertscore = evaluate.load(\"bertscore\") # loading the bertscore\n",
        "rg = evaluate.load(\"rouge\") #loading rouge metics and its correpsonding\n",
        "smooth= SmoothingFunction().method1 #smoothing feature for the BLEU sores\n",
        "\n",
        "# # #Defining an evaluation functions which computes the tokenised precicion, recall, F1score metrics\n",
        "# # #alongside the bleu and rouge metrics, which later will be computed in the training loop\n",
        "def comp_mt(el_pd):\n",
        "    preds_, labels_ =el_pd\n",
        "    #Ensuring preds_, labels_ are in numpy format and on cpu\n",
        "    if isinstance(preds_, torch.Tensor):\n",
        "        preds_ =preds_.cpu().numpy()\n",
        "    if isinstance(labels_, torch.Tensor):\n",
        "        labels_ =labels_.cpu().numpy()\n",
        "    #Due to OverflowError in the past, replacing -100 labels with token IDs,avoiding decoding issuees\n",
        "    #Since Pytorch ignored these indexes\n",
        "    labels_ =np.where(labels_ != -100, labels_, tokense_t5.pad_token_id)\n",
        "    try:\n",
        "        #Due to ongoing OverflowErrors error enountered during evalution, the intseq was created\n",
        "        #Converiting sequences of tokenids into integers via intseq, avoiding decoding issues encountered earlier\n",
        "        def intseq(sq):\n",
        "            sq = [int(min(max(tok, 0), 2**31 - 1)) for tok in list(sq)] if hasattr(sq, '__iter__') else [int(min(max(sq, 0), 2**31 - 1))]\n",
        "            return sq\n",
        "        #Decoding the tokens into strings for evaluation\n",
        "        deco_preds_ =tokense_t5.batch_decode([safe_int_seq(seq) for seq in preds_], skip_special_tokens=True)\n",
        "        decod_labels_ =tokense_t5.batch_decode([safe_int_seq(seq) for seq in labels_], skip_special_tokens=True)\n",
        "        #tokensing each word, and flattening for evaluation\n",
        "        pd_tok=[gen.split() for gen in deco_preds_]\n",
        "        ref_tok=[ref.split() for ref in decod_labels_]\n",
        "        ypred = [token for sent in pd_tok for token in sent]\n",
        "        y_ref = [token for sent in ref_tok for token in sent]\n",
        "        #truncating for alignment between both the refernce and prediciotns\n",
        "        minlength=min(len(y_ref), len(ypred))\n",
        "        ypred = ypred[:minlength]\n",
        "        y_ref =y_ref[:minlength]\n",
        "        #Computing precision, recall, accuracy and the F-1 score, each for word-token comparison between reference and prediction\n",
        "        tokprec_=precision_score(y_ref, ypred, average=\"micro\", zero_division=0)\n",
        "        tokrecall =recall_score(y_ref, ypred, average=\"micro\", zero_division=0)\n",
        "        tokf1_= f1_score(y_ref, ypred, average=\"micro\", zero_division=0)\n",
        "        tokacc =accuracy_score(y_ref, ypred)\n",
        "        #Computing rouge, blue and bert metrics for evaluation\n",
        "        rgsc =rg.compute(predictions=deco_preds_, references=decod_labels_, use_stemmer=True)\n",
        "        blsc= [sentence_bleu([ref], pred, weights=(.25, .25, .25, .25), smoothing_function=smooth)for pred, ref in zip(pd_tok, ref_tok)]\n",
        "        blemean= np.mean(blsc)\n",
        "        bert_=bertscore.compute(predictions=deco_preds_, references=decod_labels_, lang=\"en\")\n",
        "        meanbertscore_= round(np.mean(bert_[\"f1\"]), 3)\n",
        "        return {\n",
        "            \"Precision (token)\":tokprec_,\n",
        "            \"recall(token)\":tokrecall,\n",
        "            \"F1(token)\":tokf1_,\n",
        "            \"accuracy(token)\":tokacc,\n",
        "            \"roge1\": rgsc[\"rouge1\"],\n",
        "            \"rouge2\":rgsc[\"rouge2\"],\n",
        "            \"rougeL\":rgsc[\"rougeL\"],\n",
        "            \"bleu4\": blemean,\n",
        "            \"BERTScore-F1\":meanbertscore_}\n",
        "    except Exception as e:   #this was neccessary for debugging as OverflowErrors kept on reappearing\n",
        "        print(\"compt_ct failed\")\n",
        "        traceback.print_exc() #\n",
        "        return None"
      ],
      "metadata": {
        "id": "bwPqisdxPMpt"
      },
      "execution_count": null,
      "outputs": []
    },
    {
      "cell_type": "code",
      "source": [
        "model_path = \"/content/drive/My Drive/Colab Notebooks/AMLH-NLP EHR/model_trained2/model_trained_weights/checkpoint-14406\"\n",
        "model = T5ForConditionalGeneration.from_pretrained(model_path)"
      ],
      "metadata": {
        "id": "v91h3JnvHG65"
      },
      "execution_count": null,
      "outputs": []
    },
    {
      "cell_type": "code",
      "source": [
        "#Applytig the Evaluation Fucntion to the trained model, from the specified\n",
        "t5trainer= Seq2SeqTrainer(model= model, args=trainargs,tokenizer=tokense_t5,data_collator=data_collator,eval_dataset=token_val_T5_final)\n",
        "#Making model predctions\n",
        "preds = t5trainer.predict(token_val_T5_final)\n",
        "#Verying their shape\n",
        "print(preds.predictions.shape)"
      ],
      "metadata": {
        "colab": {
          "base_uri": "https://localhost:8080/",
          "height": 91
        },
        "id": "JBOMmpD1FUsz",
        "outputId": "3fdea0ec-d6b5-4f43-abde-a79c2bd82962"
      },
      "execution_count": null,
      "outputs": [
        {
          "output_type": "stream",
          "name": "stderr",
          "text": [
            "/tmp/ipython-input-46-2387771677.py:2: FutureWarning: `tokenizer` is deprecated and will be removed in version 5.0.0 for `Seq2SeqTrainer.__init__`. Use `processing_class` instead.\n",
            "  t5trainer= Seq2SeqTrainer(\n"
          ]
        },
        {
          "output_type": "display_data",
          "data": {
            "text/plain": [
              "<IPython.core.display.HTML object>"
            ],
            "text/html": []
          },
          "metadata": {}
        },
        {
          "output_type": "stream",
          "name": "stdout",
          "text": [
            "Shape of predictions: (4801, 21)\n"
          ]
        }
      ]
    },
    {
      "cell_type": "code",
      "source": [
        "# #Applyign the evlation function from above to here\n",
        "met = comp_mt((preds.predictions, preds.label_ids))\n",
        "# #Loop/priting through the results\n",
        "if met is not None: #Since metrics were previously empty due to bug in comp_mt\n",
        "    for k, v in met.items():\n",
        "        print(f\"{k}: {v}\")"
      ],
      "metadata": {
        "id": "ib2oOZwTUDpJ"
      },
      "execution_count": null,
      "outputs": []
    },
    {
      "cell_type": "markdown",
      "source": [
        "## Section 6: RAG T5-small via TF-IDF"
      ],
      "metadata": {
        "id": "eibGtx0GLdgV"
      }
    },
    {
      "cell_type": "code",
      "source": [
        "#Creating empty lists for storage for evalution results\n",
        "gen_ans=[]\n",
        "ref_ans=[]\n",
        "ques=test_t5_df[\"question\"].tolist()\n",
        "ref= test_t5_df[\"answer\"].tolist()\n",
        "m_ax= 200\n",
        "gen_max = 100\n",
        "\n",
        "#Having already evaluted the results, it was decided to truncate the context\n",
        "def t_text(text, maxmokens=200):\n",
        "    t = text.split()\n",
        "    return \" \".join(t[:maxmokens])\n",
        "#Initialising loop to incoperate TF-IDF into T5, prodcuing an ouptut\n",
        "for i in range(len(ques)):\n",
        "    question = ques[i]\n",
        "    reference = ref[i]\n",
        "    #Using TF-IDF function from section 5.0\n",
        "    tdc = retk_docs(question, k=1)[0][1]\n",
        "    cont = t_text(tdc, m_ax)\n",
        "    #Creating the T5 necessary input prompt\n",
        "    t5_input = f\"Question: {question} context: {cont}\"\n",
        "    #Tokenining and using t5 and IF-IDF\n",
        "    input_ids = tokense_t5([t5_input], return_tensors=\"pt\", truncation=True, padding=True).to(device)\n",
        "    with torch.no_grad():\n",
        "        output_ids = model.generate(**input_ids, max_new_tokens=gen_max, num_beams=4,early_stopping=True, no_repeat_ngram_size=3)\n",
        "    gen = tokense_t5.decode(output_ids[0], skip_special_tokens=True)\n",
        "    #appeding the generated results into the empty lists\n",
        "    gen_ans.append(gen)\n",
        "    ref_ans.append(reference)\n",
        "#Prining the results\n",
        "print(f\"output,answer{gen_ans},ref answer{ref_ans}\")"
      ],
      "metadata": {
        "colab": {
          "base_uri": "https://localhost:8080/"
        },
        "id": "vShFZ4AoK-Fl",
        "outputId": "ad310c66-5307-4caa-f7b7-0f7f62b81405"
      },
      "execution_count": null,
      "outputs": [
        {
          "output_type": "stream",
          "name": "stdout",
          "text": [
            "output answer['bronchiolitis is a common chest infection that affects babies and children under 2 and causes a cough with lots of mucus and can affect people of all ages.', 'the early symptoms of bronchiolitis are similar to a cold such as sneezing a runny or blocked nose, a cough and a slightly high temperature of 38c.', 'if your child is having difficulty breathing due to bronchiolitis, you should call 999 or go to ae.', 'yes, bronchiolitis is different from the common chest infection which causes a cough with lots of mucus and can affect people of all ages.', 'the treatments for bronchiolitis include a sneezing, a runny or blocked nose, cough and a slightly high temperature of 38c.', 'if your child has a dry nappy for 12 hours or more, you should check your baby’s bottom or the whole skin that looks sore and feels hot to touch scaly and dry skin, an itchy or painful bottom, your baby seeming uncomfortable or distressed spots, pimples or blisters on bottom', 'a child with bronchiolitis may then get other symptoms such as breathing more quickly finding it difficult to feed or eat noisy breathing wheezing becoming irritable symptoms are usually worst between days 3 and 5 and the cough usually gets better in 3 weeks.', 'yes, a child with bronchiolitis may then get other symptoms such as breathing more quickly finding it difficult to feed or eat noisy breathing wheezing becoming irritable symptoms are usually worst between days 3 and 5 and the cough usually gets better in 3 weeks.', 'the respiratory syncytial virus (RSV) is a virus that affects babies and children under 2 and causes a cough with lots of mucus and can affect people of all ages.', 'laryngitis is when your voice box or vocal cord in the throat become irritated or swollen it usually goes away by itself within 1 to 2 weeks.', 'laryngitis usually goes away on its own after 1 to 2 weeks and you do not need to see a gp there are some things you can do to help ease the symptoms, try to speak as little as possible, drink plenty of fluids keep the air moist by putting out bowls of water – central heating and air', 'to treat laryngitis yourself, you can try to speak as little as possible, drink plenty of fluids, keep the air moist by putting out bowls of water – central heating and air.', 'try to speak as little as possible, drink plenty of fluids keep the air moist by putting out bowls of water – central heating and air.', 'laryngitis usually goes away on its own after 1 to 2 weeks and you do not need to see a gp there are some things you can do to help ease the symptoms, try to speak as little as possible, drink plenty of fluids keep the air moist by putting out bowls of water – central heating and air', 'you can gargle with salty water if you have tonsillitis. it is a common childhood illness but teenagers and adults can get it too.', 'if you have laryngitis, you do not need to see a gp. you can try to speak as little as possible, drink plenty of fluids, keep the air moist by putting out bowls of water – central heating and air.', 'laryngitis usually goes away on its own after 1 to 2 weeks and you do not need to see a gp there are some things you can do to ease the symptoms, do try to speak as little as possible, drink plenty of fluids keep the air moist by putting out bowls of water – central heating and air', 'laryngitis usually goes away on its own after 1 to 2 weeks and you do not need to see a gp there are some things you can do to help ease the symptoms, try to speak as little as possible, drink plenty of fluids keep the air moist by putting out bowls of water – central heating and air', 'laryngitis usually goes away on its own after 1 to 2 weeks and you do not need to see a gp.', 'multiple sclerosis is a condition that affects the brain and spinal cord. it cannot currently be cured but treatment can often help manage it.', 'symptoms of multiple sclerosis include feeling extremely tired, fatigue problems with your eyes or your vision, blurred vision or eye pain, numbness or a tingling feeling in different parts of the body, feeling off balance, dizzy or clumsy, uncoordinated muscle cramps, spasms and stiffness, needing to pee more often or not being able to control when you pee,', 'multiple sclerosis is a condition that affects the brain and spinal cord. it cannot currently be cured but treatment can often help manage it.', 'multiple sclerosis is a condition that affects the brain and spinal cord. it cannot currently be cured but treatment can often help manage it.', 'multiple sclerosis is a condition that affects the brain and spinal cord. it cannot currently be cured but treatment can often help manage it.', 'disease-modifying therapies are therapies that can help people in lots of different situations. they can be referred to as counselling talking treatments or psychological therapies.', 'people with multiple sclerosis have a life expectancy of up to 12 months.', 'multiple sclerosis is a condition that affects the brain and spinal cord. it cannot currently be cured but treatment can often help manage it.', 'if you think you have MS, you should see a gp.', 'yes, there is support available for people with multiple sclerosis.', 'pneumonia is inflammation of the lungs usually caused by an infection most people get better in 2 to 4 weeks but babies older people and people with heart or lung conditions are at risk of getting seriously ill and may need treatment in hospital.', 'symptoms of pneumonia can start suddenly or gradually over a few days they include a cough, yellow or green mucus, phlegm shortness of breath, a high temperature, chest pain, an aching body, feeling very tired, loss of appetite, making wheezing noises when you breathe, babies may also make grunting noises', 'pneumonia is inflammation of the lungs usually caused by an infection most people get better in 2 to 4 weeks but babies older people and people with heart or lung conditions are at risk of getting seriously ill and may need treatment in hospital.', 'the urgent symptoms that require immediate medical attention related to pneumonia include coughing up yellow or green mucus, phlegm shortness of breath, high temperature chest pain, an aching body, feeling very tired, loss of appetite, making wheezing noises when you breathe, babies may also make grunting noises', 'pneumonia is inflammation of the lungs usually caused by an infection most people get better in 2 to 4 weeks but babies older people and people with heart or lung conditions are at risk of getting seriously ill and may need treatment in hospital.', 'there are some things one can do to prevent the spread of pneumonia.', 'pneumonia is inflammation of the lungs usually caused by an infection most people get better in 2 to 4 weeks but babies older people and people with heart or lung conditions are at risk of getting seriously ill and may need treatment in hospital.', 'the pneumococcal vaccine is a vaccine that helps protect against serious illnesses like pneumonia and meningitis. it is recommended for people at higher risk of these illnesses such as babies and adults aged 65 and over.', 'yes, smoking increases the risk of contracting pneumonia.', 'tonsillitis is an infection of the tonsils at the sides of your throat. it is a common childhood illness but teenagers and adults can get it too.', 'tonsillitis is an infection of the tonsils at the sides of your throat, which is a common childhood illness but teenagers and adults can get it too.', 'tonsillitis is an infection of the tonsils at the sides of your throat, which is a common childhood illness but teenagers and adults can get it too.', 'tonsillitis is an infection of the tonsils at the sides of your throat. it is a common childhood illness but teenagers and adults can get it too.', 'if you have tonsillitis, you should check the tonsils at the sides of your throat.', 'you should stay away from others if you have tonsillitis.', 'tonsillitis is an infection of the tonsils at the sides of your throat.', 'you can remove your tonsils if you have tonsillitis.', 'tonsillitis can be caused by other conditions such as swollen painful glands in your neck, mis filled spots or white patches on your tonsils, bad breath, and earache.', 'acanthosis nigricans is the name for dry dark patches of skin that usually appear in the armpits neck or groin.', 'the main symptom of acanthosis nigricans is patches of skin that are darker and thicker than usual, they can appear anywhere on the body, the patches are dry and feel similar to velvet credit benedicte desrus alamy stock photo https wwwalamycom stock photo', 'if you think you have acanthosis nigricans, you should skip to main content.', 'at a gp appointment for acanthosis nigricans, it is important to check for underlying conditions such as dry dark patches of skin that usually appear in the armpits neck or groin.', 'the main symptom of acanthosis nigricans is patches of skin that are darker and thicker than usual they can appear anywhere on the body, the patches are dry and feel similar to velvet credit benedicte desrus alamy stock photo https wwwalamycom stock photo', 'treatment options for acanthosis nigricans include treatment for dry dark patches of skin that usually appear in the armpits neck or groin.', 'the main symptom of acanthosis nigricans is patches of skin that are darker and thicker than usual they can appear anywhere on the body, the patches are dry and feel similar to velvet credit benedicte desrus alamy stock photo https wwwalamycom', 'acanthosis nigricans is the name for dry dark patches of skin that usually appear in the armpits neck or groin. it could be a sign of an underlying condition so it needs to be checked by a gp check.', 'acanthosis nigricans is not treated as a condition where the patches of skin are darker and thicker than usual and can appear anywhere on the body.', 'achalasia is a rare disorder of the food pipe that can make it difficult to swallow food and drink normally the muscles of the oesophagus contract to squeeze food along towards the stomach.', 'achalasia is a rare disorder of the food pipe, which can make it difficult to swallow food and drink normally the muscles of the oesophagus contract to squeeze food along towards the stomach.', 'the common symptoms of achalasia include bringing back up undigested food, choking and coughing, fits heartburn, chest pain, repeated chest infections, drooling of vomit or saliva, gradual but significant weight loss symptoms may start at any time of life.', 'achalasia is a rare disorder of the food pipe that can make it difficult to swallow food and drink normally the muscles of the oesophagus contract to squeeze food along towards the stomach.', 'manometry test is a blood test that is often done to check your health or to find out why youre having certain symptoms it involves having a small amount of your blood taken for testing.', 'the balloon dilation treatment is a treatment that involves soaking the cyst for 10 to 15 minutes in a few inches of warm water.', 'yes, achalasia is a rare disorder of the food pipe that can make it difficult to swallow food and drink normally the muscles of the oesophagus contract to squeeze food along towards the stomach.', 'the potential side effects of balloon dilation treatment include excessive bleeding, haemorrhage, and excessive bleeding.', 'botox injection treatment is a treatment that is used to treat the side effects and risks of the injection.', 'if someone still has swallowing difficulties or is continuing to lose weight after treatment, they should be assessed by a team of healthcare professionals and a multidisciplinary team.', 'acne is a common skin condition that affects most people at some point it causes spots oily skin and sometimes skin thats hot or painful to touch symptoms of acne acne most commonly develops on the face.', 'acne is a common skin condition that affects most people at some point it causes spots oily skin and sometimes skin thats hot or painful to touch.', 'there are 6 main types of spots caused by acne blackheads – small black or yellowish bumps that develop on the skin theyre not filled with dirt but are black because the inner lining of the hair follicle produces colour whiteheads', 'if you have acne, you can try self-help techniques, such as nhs, skip to main content overview, acne, and dr p marazzi.', 'yes, exercise can help boost your acne.', 'acne is a common skin condition that affects most people at some point it causes spots oily skin and sometimes skin thats hot or painful to touch symptoms of acne.', 'acne is caused when tiny holes in the skin known as hair follicles become blocked sebaceous glands are tiny glands found near the surface of your skin.', 'yes, diet, poor hygiene, or sexual activity can cause acne.', 'acne is a common skin condition that affects most people at some point it causes spots oily skin and sometimes skin thats hot or painful to touch symptoms of acne acne most commonly develops on the face.', 'when should I seek medical advice about my acne?', 'an acoustic neuroma is a type of non cancerous benign brain tumour that is also known as a vestibular schwannoma.', 'symptoms of an acoustic neuroma may not cause any obvious symptoms at first, any symptoms tend to develop gradually and often include hearing loss that usually only affects 1 ear hearing sounds that come from inside the body tinnitus the sensation that youre moving or spinning vertigo', 'yes, an acoustic neuroma can be cancerous.', 'a small number of cases are the result of a genetic condition called neurofibromatosis type 2 nf2 symptoms of an acoustic neuroma.', 'an acoustic neuroma can be diagnosed with a genetic condition called neurofibromatosis type 2 nf2 and can be treated before they reach this stage.', 'treatment options for an acoustic neuroma include a treatment plan to reduce the risk of developing a benign brain tumour.', 'the treatment options for an acoustic neuroma carry risks such as headaches, temporary blurred or double vision, and a small number of cases are picked up and treated before they reach this stage.', 'yes, an acoustic neuroma can be fatal.', 'people with acoustic neuromas tend to affect adults aged 30 to 60 and usually have no obvious cause although a small number of cases are the result of a genetic condition called neurofibromatosis type 2 nf2 symptoms of an', 'acute cholecystitis is inflammation of the gallbladder. it usually happens when a gallstone blocks the cystic duct.', 'gallstones are small stones usually made of cholesterol that form in the gallbladder in most cases they do not cause any symptoms and do not need to be treated.', 'the main symptom of acute cholecystitis is a sudden sharp pain in the upper right hand side of your tummy abdomen this pain spreads towards your right shoulder, the affected part of the', 'acute cholecystitis is caused by inflammation of the gallbladder, which usually happens when a gallstone blocks the cystic duct.', 'acute cholecystitis is a condition where a gallstone blocks the cystic duct, which is the main opening of the gallbladder.', 'the initial treatment for acute cholecystitis usually needs to be treated in hospital with rest intravenous fluids and antibiotics.', 'surgery may be necessary for acute cholecystitis because of the risk of complications it usually needs to be treated in hospital with rest intravenous fluids and antibiotics.', 'acute cholecystitis is potentially serious because of the risk of complications it usually needs to be treated in hospital with rest intravenous fluids and antibiotics.', 'you can lower your risk of developing acute cholecystitis by reducing the risk of complications.', 'the gallbladder is a small pouch like organ in the upper right part of your tummy and stores bile a fluid produced by the liver that helps break down fatty foods.', 'acute kidney injury (AKI) is a condition where your kidneys suddenly stop working properly. it can range from minor loss of kidney function to complete kidney failure.', 'symptoms of acute kidney injury include feeling sick or being sick, diarrhoea dehydration, peeing less than usual, confusion, drowsiness even if it does not progress to complete kidney failure aki needs to be taken seriously.', 'acute kidney injury can be caused by a sudden stop in the kidneys, such as a complication of another serious illness.', 'the risk factors for acute kidney injury include sudden loss of kidney function to complete kidney failure, aki normally happens as a complication of another serious illness.', 'acute kidney injury is a condition where your kidneys suddenly stop working properly and can range from minor loss of kidney function to complete kidney failure.', 'acute kidney injury usually happens as a complication of another serious illness.', 'acute kidney injury is a condition where your kidneys suddenly stop working properly and can range from minor loss of kidney function to complete kidney failure.', 'aki can also affect children and young people find out more from infokid about aki in children symptoms of aki include feeling sick or being sick, diarrhoea dehydration, peeing less than usual confusion drowsiness even if it does not progress to complete kidney failure', 'medicines that can cause acute kidney injury include a combination of medicines such as a gp, a dialysis machine, and a medication that can be used to treat the condition.', 'nhs skip to main content acute kidney injury aki is where your kidneys suddenly stop working properly it can range from minor loss of kidney function to complete kidney failure.', 'acute pancreatitis is a condition where a small organ located behind the stomach helps with digestion.', 'alcohol consumption causes acute pancreatitis by reducing how much alcohol you drink and altering your diet to make it worse.', 'hypertriglyceridaemia is a common cause of acute pancreatitis.', 'autoimmune pancreatitis is a type of pancreatic disease that affects the immune system.', 'youre probably more likely to develop severe pancreatitis if you are over 20 years old.', 'hypercalcaemia is a type of hypercalcemia that can cause pain in the affected bones and make them more likely to break fracture the spine.', 'yes, viruses can cause acute pancreatitis.', 'complications that can arise from acute pancreatitis include getting severe pain in the centre of your tummy abdomen, feeling or being sick, a high temperature of 38c or more fever.', 'pseudocysts in relation to acute pancreatitis include a small organ located behind the stomach that helps with digestion.', 'in severe cases of acute pancreatitis, a small organ located behind the stomach helps with digestion.', 'the treatment for necrosis and an infection in the pancreas involves injections of antibiotics and surgery to remove the dead tissue.', 'chronic pancreatitis is a condition where the pancrean has become permanently damaged from inflammation and stops working properly.', 'most people with acute pancreatitis start to feel better within about a week and have no further problems but some people can go on to develop serious complications', 'yes, pseudocysts often disappear on their own but can sometimes get infected and may need to be drained pancreatic necrosis and infection.', 'sepsis is a condition that causes pancreatic necrosis.', 'chronic pancreatitis is not a serious condition, but it can affect people of any age.', 'ARDs is a life threatening illness that can happen when your lungs are not working properly and is treated in hospital who is at risk of getting acute respiratory distress syndrome.', 'symptoms of ARDs include shortness of breath, taking short fast breaths, immediate action required, call 999 or go to ae immediately if you or someone else have severe difficulty breathing for example not being able to get words out, choking or gasping, have sudden shortness', 'if you or someone else have severe difficulty breathing for example not being able to get words out, you should call 999 or go to ae immediately.', 'ARDs can include sepsis infections such as pneumonia, acute pancreatitis accidentally inhaling vomit or food, drowning smoke, inhalation, severe injuries, having blood transfusions, having a lung transplant, and symptoms of acute respiratory distress syndrome.', 'the factors that cause lung inflammation leading to ARDs can include sepsis infections such as pneumonia, acute pancreatitis accidentally inhaling vomit or food, drowning smoke, inhalation, severe injuries, having blood transfusions, and a lung transplant.', 'oxygen is supplied to a patient with ARDs, which is usually a complication of other serious conditions and is treated in hospital.', \"addison's disease can affect people of any age although its most common between the ages of 30 and 50 is more common in women than men.\", 'a synacthen stimulation test involves measuring the levels of sodium potassium and cortisol in your body.', \"blood tests are done to diagnose addison's disease.\", \"scans used for the diagnosis of addison's disease include a scan of the adrenal glands that sit on top of the kidneys and produce 2 essential hormones, cortisol and aldosterone.\", 'a thyroid function test looks at levels of thyroid stimulating hormone tsh and thyroxine t4 in the blood.', 'an adrenal crisis is a type of adrenal crisis that affects people with addisons disease.', \"if diagnosed with addison's disease, you should see a hospital hormone specialist endocrinologist for your blood to be tested for the following a low level of the hormone aldosterone.\", \"addison's disease is a rare disorder of the adrenal glands that is caused by addisons disease. it is also known as primary adrenal insufficiency or hypoadrenalism.\", \"symptoms of addison's disease are similar to other more common health conditions such as clinical depression or flu, you may experience lack of energy or motivation fatigue, muscle weakness, low mood loss of appetite and unintentional weight loss, increased thirst over time, these problems may become more severe and you may\", \"addison's disease is caused by the adrenal glands that sit on top of the kidneys and produce 2 essential hormones cortisol and aldosterone.\", \"there is no cure for addison's disease.\", \"addison's disease is more common in women than men.\", \"most people in the uk have addison's disease with over 300 new cases diagnosed each year.\", \"an adrenal crisis in Addison's disease is a condition where the adrenal glands are unable to function properly.\", \"the treatment of addison's disease can affect people of any age although its most common between the ages of 30 and 50 is more common in women than men.\", \"there are some associated health conditions with addison's disease, such as clinical depression or flu, where you may experience lack of energy or motivation fatigue, muscle weakness, low mood loss of appetite and unintentional weight loss increased thirst over time, these problems may become more severe and you may also develop small areas of darkened skin or darkened lips or gums\", 'the national congenital anomaly and rare disease registration service (ncrrs) is a registered service that provides information and information on the condition.', 'an adenoidectomy is an operation to remove enlarged adenoids.', 'an adenoidectomy is mainly done in children to help with problems caused by enlarged adenoids these problems can cause pain or partially block the airway they include difficulty breathing through the nose which can cause mouth breathing or snoring sleep', 'the problems caused by enlarged adenoids that require an adenoidectomy include pain or partially block the airway, difficulty breathing through the nose, mouth breathing or snoring sleep, apnoea where breathing stops and starts during sleep, glue ear an infection in the middle ear which can cause hearing problems', 'glue ear is where the middle part of the ear canal fills up with fluid this can cause temporary hearing loss. it usually clears up within 3 months but see a gp about any hearing problems.', 'the adenoids usually start to shrink around the age of 4 and disappear by early adulthood. an adenoidectomy may be done in adults who have these problems but this is not common.', 'an adenoidectomy may be done in adults who have these problems but this is not common.', 'during an adenoidectomy, your child will not be able to eat or drink for some time before having an operation. the hospital will give you information about this the operation.', 'an adenoidectomy may be done in adults who have these problems but this is not common.', 'an adenoidectomy is mainly done in children to help with problems caused by enlarged adenoids these problems can cause pain or partially block the airway they include difficulty breathing through the nose which can cause mouth breathing or snoring sleep apnoea where breathing stops and starts during sleep glue', 'your doctor might suggest waiting to see if these problems get better by themselves rather than having an adenoidectomy depending on how serious the problems are.', 'diabetic ketoacidosis is a serious condition that can happen in people with diabetes.', 'symptoms of diabetic ketoacidosis include feeling thirsty needing to pee more often, stomach pain, feeling sick or being sick, diarrhoea breathing more deeply than usual breath that smells fruity like pear drop sweets or nail polish remover, feeling tired, sleepy or confused, blurred vision.', 'diabetic ketoacidosis is caused by a lack of insulin that causes harmful substances called ketones to build up in the blood. it can be life threatening and needs urgent treatment in hospital.', 'you can prevent diabetic ketoacidosis by using a meter to test for ketones in your blood under 06mmol.', 'if you suspect you have dka, check your blood glucose if its high test for ketones in your blood under 06mmol l.', 'most people with diabetes are more susceptible to getting diabetic ketoacidosis.', 'the treatment for diabetic ketoacidosis involves taking a meter to test for ketones in your blood under 06mmol l.', 'diabetic ketoacidosis can be life threatening and needs urgent treatment in hospital.', 'gallstones are small stones usually made of cholesterol that form in the gallbladder in most cases they do not cause any symptoms and do not need to be treated.', 'gallstones often have no symptoms but if a gallstone becomes trapped in an opening duct inside the gallbladder it can trigger a sudden intense pain in your tummy that usually lasts between 1 and 5 hours this type of abdominal pain is known as biliary colic', 'the gallbladder is a small pouch like organ in the upper right part of your tummy and stores bile a fluid produced by the liver that helps break down fatty foods.', 'gallstones are small stones usually made of cholesterol that form in the gallbladder in most cases they do not cause any symptoms and do not need to be treated.', 'you should not regularly drink more than 14 units of alcohol a week as this can lead to liver problems and other health conditions as regularly drinking any amount of alcohol can increase the risk to your health.', 'if a gallstone becomes trapped in an opening duct inside the gallbladder it can trigger a sudden intense pain in your tummy that usually lasts between 1 and 5 hours.', 'laparoscopic cholecystectomy is a surgical procedure that involves removing a small amount of calcium from the gallbladder. it is referred to as a laparoscopy of the gp.', 'after the gallbladder is removed, it is usually carried out if you have painful gallstones.', 'yes, gallstone disease can be life-threatening.', 'gastritis is when the lining of your stomach becomes irritated inflamed and can cause pain indigestion and feeling sick treatments include antacids alginates and antibiotics.', 'symptoms of gastritis include tummy pain, feeling full and bloated feeling sick, nausea, being sick, vomiting, not feeling as hungry as usual, burping and farting immediate action required, call 999 or go to ae if youre vomiting bright red blood or your vomit looks like ground coffee,', 'if you suspect you have gastritis and youve lost your appetite, you feel full after a very small meal, youve recently lost weight without trying to it feels like you have a lump in your tummy.', 'gastritis is caused by the lining of your stomach becoming irritated inflamed and can cause pain, indigestion and feeling sick, treatments include antacids, alginates, and antibiotics.', 'gastritis is a condition where the lining of your stomach becomes irritated inflamed and can cause pain indigestion and feeling sick.', 'the treatment for gastritis includes antacids, alginates, and antibiotics.', 'if you have symptoms of gastritis and youve lost your appetite, you feel full after a very small meal, youve recently lost weight without trying to it feels like you have a lump in your tummy.', 'if you have symptoms of gastritis and youve lost your appetite, you feel full after a very small meal, youve recently lost weight without trying to it feels like you have a lump in your tummy.', 'during a breath test for h. pylori, you will be given a drink containing urea and your breath is then checked after a stool antigen test.', 'if you have mild gastritis symptoms and youve lost your appetite, you feel full after a very small meal, youve recently lost weight without trying to it feels like you have a lump in your tummy.', 'genital herpes is a sexually transmitted infection sti passed on through vaginal anal and oral sex treatment.', 'the symptoms of genital herpes include small blisters that burst to leave red open sores around your gps anus thighs or bottom, the sore may be less red on brown or black skin, tingling burning or itching around your', 'you can get tested for genital herpes by going to a sexual health clinic as soon as possible.', 'genital herpes is a sexually transmitted infection sti passed on through vaginal anal and oral sex treatment.', \"yes, genital herpes can come back after it's cleared up.\", 'genital herpes can be passed on through vaginal anal and oral sex treatment from a sexual health clinic.', 'the triggers for genital herpes outbreaks include small blisters that burst to leave red open sores around your gps anus thighs or bottom.', 'during a genital herpes outbreak, one should skip to main content.', 'yes, genital herpes is a sexually transmitted infection that can be transmitted during pregnancy.', 'if a woman has genital herpes during pregnancy, she should go to a sexual health clinic as soon as possible.', 'you can use painkillers like paracetamol aspirin and ibuprofen to treat a tension headache yourself.', 'most headaches last at least 30 minutes, but they can last much longer sometimes for several days.', 'if your headache keeps coming back painkillers do not help and your headache gets worse, you have a bad throbbing pain at the front or side of your head – it could be a migraine or more rarely', \"if you have a headache and a high temperature, it's important to avoid having a seizure or fit, use a digital thermometer which you can buy from pharmacies and supermarkets.\", 'if your headache keeps coming back painkillers do not help and your headache gets worse, you have a bad throbbing pain at the front or side of your head, it could be a migraine or more rarely a cluster headache you feel.', 'if you have a headache with vomiting, you should take paracetamol or ibuprofen to stay at home and avoid contact with other people.', 'headaches can be caused by pain on both sides of your head, face or neck, feeling like something is pressing on your head or being tightened around it.', 'if you or someone else has a head injury and a headache, you should go to ae.', 'if you or your child has an extremely painful headache, you should see a gp if your headache keeps coming back painkillers do not help and your headache gets worse.', 'to prevent headaches, you can use painkillers like paracetamol aspirin and ibuprofen.', 'heart failure is a long term condition that tends to get gradually worse over time and cannot usually be cured but the symptoms can often be controlled for many years.', 'the main symptoms of heart failure are breathlessness after activity or at rest feeling tired most of the time and finding exercise exhausting feeling lightheaded or fainting swollen ankles and legs some people also experience other symptoms such as a persistent cough.', 'heart failure is a long term condition that tends to get gradually worse over time and cannot usually be cured but the symptoms can often be controlled for many years symptoms of heart failure.', 'heart failure is a long term condition that tends to get gradually worse over time and cannot usually be cured but the symptoms can often be controlled for many years.', 'you should see a gp if you experience persistent or gradually worsening symptoms of heart failure.', 'to diagnose heart failure, nhs skip to main content overview heart failure means that the heart is unable to pump blood around the body properly, usually happens because the heart has become too weak or stiff.', 'heart failure is a long term condition that tends to get gradually worse over time. it cannot usually be cured but the symptoms can often be controlled for many years.', 'the common treatments for heart failure include heart failure, breathlessness after activity or at rest, feeling tired most of the time and finding exercise, exhausting feeling lightheaded or fainting, and swollen ankles and legs. some people also experience other symptoms such as a persistent cough.', 'yes, heart failure can be fatal if the heart is unable to pump blood around the body properly.', 'heart failure is predictable, but it is not predictable. it means that the heart is unable to pump blood around the body properly and usually happens because the heart has become too weak or stiff.'],reference answer['Bronchiolitis is a common chest infection that affects babies and children under 2, caused by a viral infection, usually the respiratory syncytial virus (RSV).', 'The early symptoms of bronchiolitis are similar to a cold, such as sneezing, a runny or blocked nose, a cough, and a slightly high temperature of 38C.', 'If your child is having difficulty breathing, such as grunting noises, pauses when breathing, blue skin, tongue or lips, or floppiness, then you should call 999 or go to A&E.', 'No, bronchiolitis is different from bronchitis, which causes a cough with lots of mucus and can affect people of all ages.', \"There's no specific treatment for bronchiolitis. It usually gets better on its own and you can look after your child at home. You can give children's paracetamol, try using saline drops, keep them upright, encourage fluids, and don't smoke around them.\", 'If your child has a dry nappy for 12 hours or more, or shows other signs of dehydration, then you should ask for an urgent GP appointment or call 111.', 'Children who were born very prematurely, have a heart or lung condition, or have a weakened immune system may have a higher risk of getting seriously ill with bronchiolitis.', \"You can lower the chances of your child getting bronchiolitis by washing your hands and your child's hands often, washing or wiping down toys and clean surfaces regularly, using disposable tissues, keeping newborn babies away from anyone with a cold or flu, and not smoking around your child.\", \"The respiratory syncytial virus is the common virus that causes bronchiolitis, which spreads easily in coughs and sneezes and almost all children have had it by the time they're 2.\", 'Laryngitis is when your voice box or vocal cords in the throat become irritated or swollen.', 'The main symptoms of laryngitis are a hoarse (croaky) voice, sometimes losing your voice, an irritating cough that does not go away, always needing to clear your throat, and a sore throat. Children can also have a temperature of 38C or above, be off their food or drink, and have difficulty breathing (but this is rare).', 'You can try to speak as little as possible, drink plenty of fluids, keep the air moist by putting out bowls of water, gargle with warm salty water, and avoid talking loudly or whispering, smoking, spending time in smoky or dusty places, and drinking too much caffeine or alcohol.', 'A pharmacist can give advice and suggest treatments, including paracetamol or ibuprofen, cough syrup to help with your cough, and solutions to gargle or lozenges for the pain.', \"You should see a GP if your symptoms do not improve after 2 weeks, it's very painful or it's difficult to swallow, or you keep getting laryngitis or voice problems.\", 'To gargle with salty water, dissolve half a teaspoon of salt in a glass of warm water, gargle with the solution, then spit it out. Do not swallow it. Repeat as often as you like. This is not suitable for younger children.', 'The GP will try to work out what has caused your laryngitis by looking inside your throat using a small mirror, wiping a cotton bud around the back of your throat for testing, arranging a blood test, or referring you to an ear, nose and throat (ENT) specialist (if you keep getting laryngitis). If your laryngitis is caused by an infection, the GP might prescribe antibiotics.', 'Laryngitis usually happens when you have an infection from a virus, such as cold or flu. Other things that cause laryngitis include allergies to things like dust and fumes, acid from your stomach coming up your throat (acid reflux), coughing over a long time, and clearing your throat all the time.', 'You can help prevent laryngitis by practicing good hygiene, such as washing your hands frequently, avoiding contact with people who have colds or flu, and getting a flu vaccination. You can also avoid smoking and exposure to secondhand smoke or other irritants, and manage conditions that can cause laryngitis, such as acid reflux or allergies.', 'You should call 999 or go to A&E if you or your child are having difficulty breathing.', \"Multiple sclerosis (MS) is a condition that can affect the brain and spinal cord, causing a wide range of potential symptoms, including problems with vision, arm or leg movement, sensation, or balance. It's a lifelong condition that can sometimes cause serious disability, although it can occasionally be mild.\", 'The symptoms of MS vary widely from person to person and can affect any part of the body. The main symptoms include fatigue, difficulty walking, vision problems, such as blurred vision, problems controlling the bladder, numbness or tingling in different parts of the body, muscle stiffness and spasms, problems with balance and coordination, problems with thinking, learning, and planning.', 'MS starts in 1 of 2 general ways: with individual relapses (attacks or exacerbations) or with gradual progression. The types include Relapsing remitting MS, Primary progressive MS, and Secondary progressive MS.', 'MS is an autoimmune condition. This is when something goes wrong with the immune system and it mistakenly attacks a healthy part of the body – in this case, the brain or spinal cord of the nervous system. In MS, the immune system attacks the layer that surrounds and protects the nerves called the myelin sheath. Exactly what causes the immune system to act in this way is unclear, but most experts think a combination of genetic and environmental factors is involved.', \"There's currently no cure for MS, but a number of treatments can help control the condition and ease symptoms. The treatment you need will depend on the specific symptoms and difficulties you have. It may include treating relapses with short courses of steroid medicine to speed up recovery, specific treatments for individual MS symptoms, and treatment to reduce the number of relapses using medicines called disease-modifying therapies.\", \"Disease-modifying therapies are medicines that may help to slow or reduce the overall worsening of disability in people with relapsing remitting MS, and in some people with primary and secondary progressive MS who have relapses. Unfortunately, there's currently no treatment that can slow the progress of primary progressive MS or secondary progressive MS, where there are no relapses. Many therapies aiming to treat progressive MS are currently being researched.\", 'The average life expectancy for people with MS is around 5 to 10 years lower than average, and this gap appears to be getting smaller all the time. MS itself is rarely fatal, but complications may arise from severe MS, such as chest or bladder infections or swallowing difficulties.', \"MS is most commonly diagnosed in people in their 20s, 30s, and 40s, although it can develop at any age. It's about 2 to 3 times more common in women than men. MS is one of the most common causes of disability in younger adults.\", \"See a GP if you're worried you might have signs of MS. The symptoms often have many other causes, so they're not necessarily a sign of MS. Let the GP know about the specific pattern of symptoms you're experiencing. If they think you could have MS, you'll be referred to a specialist in conditions of the nervous system (a neurologist) who may suggest tests such as an MRI scan to check for features of MS.\", \"There are 2 main MS charities in the UK – MS Society and MS Trust. These organisations offer useful advice, publications, news items about ongoing research, blogs and chatrooms. They can be very useful if you, or someone you know, has just been diagnosed with MS. There's also the shift.ms website, an online community for younger people affected by MS.\", 'Pneumonia is inflammation of the lungs and is usually caused by an infection, either bacterial or viral. It can also be caused by something getting into your lungs, such as water or food.', 'The symptoms of pneumonia include coughing up yellow or green mucus, shortness of breath, a high temperature, chest pain, an aching body, feeling very tired, loss of appetite, making wheezing noises when you breathe, feeling confused.', 'Most people get better in 2 to 4 weeks. However, babies, older people, and people with heart or lung conditions are at risk of getting seriously ill and may need treatment in the hospital.', \"If you're coughing up blood or having chest pain that comes and goes when you breathe or cough, feeling short of breath or struggling to breathe, experiencing pale, blue, or blotchy skin, lips, or tongue, feeling confused or unable to wake your baby, then call 999 for immediate medical attention.\", \"Antibiotics are usually prescribed to treat pneumonia, and the standard recovery time is 2 to 4 weeks. If you have pre-existing heart conditions, lung disease or you're over 65 years old, you may need hospital treatment, which includes fluids, antibiotics, and oxygen to help you breathe.\", 'Covering your mouth and nose when sneezing or coughing, washing your hands regularly with soap and water, and staying at home until you feel better and have no more fever is helpful. If diagnosed with pneumonia, you must avoid contact with other people and put used tissues in the bin as quickly as possible.', 'Pneumonia is usually caused by bacterial or viral infection. Still, it can also be caused by inhaling something that irritates the lungs, such as chemicals, fungi, or other organisms or can be contracted by having another infection such as flu or COVID-19.', 'The pneumococcal vaccine, also known as pneumonia vaccine, protects against pneumococcal bacteria that cause pneumonia in high-risk groups, such as infants, adults over 65 years, people with a long-term illness, cardiorespiratory conditions, or weakened immune systems.', 'Yes, smoking does increase the risk of contracting pneumonia, paired with other respiratory diseases; this risk can be relatively high. Quitting smoking can also lower the chances of contracting pneumonia.', 'Tonsillitis is an infection of the tonsils at the back of your throat.', 'Tonsillitis is a common childhood illness, but teenagers and adults can get it too.', 'The main symptoms in children and adults are sore throat, problems swallowing, high temperature, coughing, headache, feeling sick, earache, feeling tired. Sometimes the symptoms can be more severe and include swollen, painful glands in your neck, pus-filled spots on your tonsils, bad breath.', 'Tonsillitis is not contagious, but most of the infections that cause it are, such as colds and flu.', \"Get plenty of rest, drink cool drinks to soothe the throat, take paracetamol or ibuprofen, gargle with warm salty water. Young children should not gargle with salty water. Speak to a pharmacist about tonsillitis. They can give advice and suggest treatments such as lozenges, throat sprays, antiseptic solutions. See a GP if you have pus-filled spots on your tonsils, the sore throat is so painful it's difficult to eat or drink, the symptoms do not go away within 4 days.\", 'If you or your child have a high temperature or do not feel well enough to do normal activities, try to stay at home and avoid contact with other people until you feel better. Use tissues when you cough or sneeze and throw them away. Wash your hands after coughing or sneezing.', 'Tonsillitis is usually caused by a virus, such as a cold, but it can also be due to a bacterial infection such as strep throat.', \"It's very rare that someone needs to have their tonsils taken out. This is usually only the case if you have severe tonsillitis that keeps coming back.\", 'Complications with tonsillitis are very rare. Sometimes you can get a pocket filled with pus (abscess) between your tonsils and the wall of your throat. This is called quinsy. Call 999 or go to A&E if you have a severe sore throat that quickly gets worse, swelling inside the mouth and throat, difficulty speaking, difficulty swallowing, difficulty breathing, difficulty opening your mouth.', 'Acanthosis nigricans is a skin condition where dry, dark patches of skin appear in areas such as the armpits, neck or groin. It could be a sign of an underlying condition, so it needs to be checked by a GP.', 'The main symptom of acanthosis nigricans is patches of skin that are darker and thicker than usual. They can appear anywhere on the body and often appear gradually without any other symptoms. Sometimes the skin may be itchy.', \"You should see a GP if you have new dark patches on your skin, or if you have any skin changes you're unsure about. Although acanthosis nigricans is usually harmless, it's best to get any skin changes checked out to rule out any serious underlying conditions.\", \"A GP can usually tell if it's acanthosis nigricans by looking at your skin. Sometimes, you may need some tests to find out what's causing the patches. Although acanthosis nigricans is usually harmless, it's important to get any skin changes checked out as it can sometimes be a sign of something more serious, such as cancer.\", \"The most common cause of acanthosis nigricans is being very overweight. Other causes include type 2 diabetes, conditions that affect hormone levels such as Cushing's syndrome, polycystic ovary syndrome or an underactive thyroid, taking certain medicines such as steroids or hormone treatments like the contraceptive pill, rarely cancer usually stomach cancer, and rarely a faulty gene inherited from your parents. Sometimes, healthy people with no other conditions get acanthosis nigricans, which is more common in people with black or brown skin.\", \"Once a GP knows what's causing acanthosis nigricans, they can recommend the best treatment. Depending on the cause, they may recommend medicine to balance your hormones or insulin levels, changing your medicine to one that does not cause the patches, or if you're overweight, a GP may recommend losing weight. There's no specific treatment for the patches themselves. A skin specialist (dermatologist) may be able to suggest treatments to improve their appearance, but finding and treating the cause is usually recommended first.\", 'No, acanthosis nigricans can appear anywhere on the body.', \"Acanthosis nigricans is not always a sign of an underlying condition. Sometimes, people without any other conditions get acanthosis nigricans, but it's important to get any skin changes checked out.\", \"Once the cause of acanthosis nigricans is found, the patches should fade over time with the appropriate treatment. Depending on the cause, treatment may involve medicine to balance hormones or insulin levels, changing medication or losing weight. There's no specific treatment for the patches themselves.\", 'Achalasia is a rare disorder of the food pipe (oesophagus), which can make it difficult to swallow food and drink.', 'Achalasia is thought to happen when the nerves in the oesophagus become damaged and stop working properly, which is why the muscles and ring of muscle do not work. The exact cause of this is unknown.', 'The common symptoms of Achalasia are difficulty in swallowing food or drink (known as dysphagia), bringing back up undigested food, choking and coughing fits, heartburn, chest pain, repeated chest infections, drooling of vomit or saliva, and gradual but significant weight loss.', \"If a GP thinks you have Achalasia, you'll be referred to hospital to have some diagnostic tests such as Manometry, Barium swallow, and Endoscopy.\", 'Manometry is a diagnostic test where a small plastic tube is passed through the mouth or nose into the oesophagus to measure the muscle pressure along it at different points.', 'Balloon dilation is a treatment in which a balloon is passed into the oesophagus using a long, thin flexible tube (endoscope), which is then inflated to help stretch the ring of muscle that lets food into your stomach.', 'There is no cure for Achalasia, but treatment can help relieve the symptoms and make swallowing easier.', 'Balloon dilation treatment can cause side effects such as acid reflux, heartburn, and chest pain.', 'Botox injection is a treatment where Botox is injected into the ring of muscle that lets food into your stomach, causing it to relax.', 'If someone still has swallowing difficulties or is continuing to lose weight after treatment, they should see a GP.', \"Acne is a common skin condition that causes spots, oily skin and sometimes skin that's hot or painful to touch. It can affect most people at some point in their lives.\", \"The symptoms of acne include spots, oily skin, and sometimes skin that's hot or painful to touch. Acne most commonly develops on the face, back, or chest.\", 'The six main types of spot caused by acne are blackheads, whiteheads, papules, pustules, nodules, and cysts.', 'Some self-help techniques to try if you have acne include avoiding washing affected areas of skin more than twice a day, using a mild soap or cleanser with lukewarm water, avoiding the \"cleaning out\" of blackheads or squeezing spots, avoiding oil-based makeup, using water-based non-comedogenic products, completely removing makeup before going to bed, using a fragrance-free water-based emollient if dry skin is an issue, showering as soon as possible after exercising, washing your hair regularly, and avoiding letting your hair fall across your face.', 'Exercise cannot improve your acne directly, but it can boost your mood and improve your self-esteem. Shower as soon as possible once you finish exercising as sweat can irritate your acne.', 'Several creams, lotions, and gels for treating spots are available to buy from pharmacies. Products containing a low concentration of benzoyl peroxide may be recommended, but be careful as this can bleach clothing. If your acne is severe or appears on your chest and back, it may need to be treated with antibiotics or stronger creams that are only available on prescription.', 'Acne is most commonly linked to the changes in hormone levels during puberty, but it can start at any age. Certain hormones cause the grease-producing glands next to hair follicles in the skin to produce larger amounts of oil (abnormal sebum). This abnormal sebum changes the activity of a usually harmless skin bacterium called P. acnes, which becomes more aggressive and causes inflammation and pus.', 'There is no evidence that diet, poor hygiene, or sexual activity play a role in acne.', 'Acne is very common in teenagers and younger adults. About 95% of people aged 11 to 30 are affected by acne to some extent. Acne is most common in girls from the ages of 14 to 17, and in boys from the ages of 16 to 19. Most people have acne on and off for several years before their symptoms start to improve as they get older. Acne often disappears when a person is in their mid-20s. In some cases, acne can continue into adult life. About 3% of adults have acne over the age of 35.', \"If you have mild acne, speak to a pharmacist about medicines to treat it. If these do not control your acne, or it's making you feel very unhappy, see a GP. You should see a GP if you have moderate or severe acne or you develop nodules or cysts, as they need to be treated properly to avoid scarring. Try to resist the temptation to pick or squeeze the spots, as this can lead to permanent scarring. Treatments can take several months to work, so do not expect results overnight. Once they do start to work, the results are usually good.\", 'An acoustic neuroma is a type of non-cancerous (benign) brain tumour that grows on the nerve used for hearing and balance, which can cause problems such as hearing loss and unsteadiness.', \"Symptoms of an acoustic neuroma may include hearing loss that usually only affects one ear, hearing sounds that come from inside the body (tinnitus), and the sensation that you're moving or spinning (vertigo). A large acoustic neuroma can also sometimes cause persistent headaches, temporary blurred or double vision, numbness, pain or weakness on one side of the face, problems with limb co-ordination (ataxia) on one side of the body, voice changes or difficulty swallowing (dysphagia).\", 'No, an acoustic neuroma is a type of non-cancerous (benign) brain tumour that usually grows slowly over many years and does not spread to other parts of the body.', 'The cause of acoustic neuromas is usually unknown, although a small number of cases are the result of a genetic condition called neurofibromatosis type 2 (NF2).', \"An acoustic neuroma can be difficult to diagnose because the symptoms can be caused by other conditions, such as Ménière's disease. If your GP thinks you could have an acoustic neuroma, you'll be referred to a hospital or clinic for further tests, such as hearing tests to check for hearing problems and determine whether they're caused by a problem with your nerves, an MRI scan, which uses strong magnetic fields and radio waves to produce a detailed picture of the inside of your head, or a CT scan, which uses a series of X-rays to create a detailed image of the inside of your head.\", \"There are several different treatment options for an acoustic neuroma, depending on the size and position of your tumour, how fast it's growing and your general health. The main options are monitoring the tumour – small tumours often just need to be monitored with regular MRI scans, brain surgery – surgery to remove all or some of the tumour through a cut in the skull may be carried out under general anaesthetic if it's large or getting bigger, or stereotactic radiosurgery – small tumours, or any pieces of a larger tumour that remain after surgery, may be treated with a precise beam of radiation to stop them getting any bigger.\", 'All treatment options carry some risks. For example, surgery and radiosurgery can sometimes cause facial numbness or an inability to move part of your face (paralysis).', \"Large acoustic neuromas can be serious because they can sometimes cause a life-threatening build-up of fluid in the brain (hydrocephalus). But it's rare for them to reach this stage.\", \"Even with treatment, symptoms such as hearing loss and tinnitus can persist and affect your ability to work, communicate and drive. These problems may need additional treatment. It's also possible for an acoustic neuroma to occasionally return after treatment. This is thought to happen to around 1 in every 20 people who have had surgical removal. You'll probably continue having regular MRI scans after any treatment to check if the tumour is growing again or coming back.\", 'Acute cholecystitis is inflammation of the gallbladder, usually caused by a gallstone blocking the cystic duct. It can be potentially serious because of the risk of complications.', 'Gallstones are small stones, usually made of cholesterol, that form in the gallbladder. They are very common and can sometimes cause episodes of pain or acute cholecystitis.', 'The main symptom of acute cholecystitis is a sudden, sharp pain in the upper right-hand side of your tummy, which spreads towards your right shoulder. Other symptoms may include a high temperature, feeling sick or being sick, sweating, loss of appetite, yellowing of the skin and the whites of the eyes, and a bulge in the tummy.', 'Acute cholecystitis is usually caused by a gallstone blocking the cystic duct. However, it can also be caused by other factors, including infections, injuries, burns, sepsis, malnutrition, or dehydration.', \"If you experience sudden and severe abdominal pain, your GP may carry out a test called Murphy's sign. If acute cholecystitis is suspected, further tests such as blood tests and an ultrasound scan of your tummy may be carried out in hospital to confirm the diagnosis.\", 'Initial treatment for acute cholecystitis usually involves not eating or drinking, receiving fluids through a drip, and taking medication to relieve pain. Antibiotics may also be prescribed if there is evidence of infection. These treatments may be continued for up to a week.', 'If initial treatment is unsuccessful or if there is a risk of serious complications, surgery may be necessary to remove the gallbladder. There are two main types of surgery: open cholecystectomy and laparoscopic cholecystectomy.', 'Without prompt treatment, acute cholecystitis can lead to serious complications, including the death of gallbladder tissue or a perforated gallbladder. Emergency surgery may be required to treat these complications if they arise.', 'Adopting a healthy, balanced diet and reducing the intake of high-cholesterol foods can help lower the risk of developing gallstones, and by extension, acute cholecystitis. Also, controlling your weight through a healthy diet and regular exercise can help reduce your risk.', \"The gallbladder is a small organ located beneath the liver that stores and concentrates bile, a liquid produced by the liver that helps digest fats and carries toxins excreted by the liver. The gallbladder releases bile into the digestive system when it's needed for digestion.\", \"Acute kidney injury (AKI) is a sudden loss of kidney function that can range from minor to complete kidney failure. This type of kidney damage is usually seen in older people who are unwell with other conditions, and it’s not the result of a physical blow to the kidneys. It's essential that AKI is detected early and treated promptly.\", 'Symptoms of acute kidney injury include feeling sick or being sick, diarrhea, dehydration, peeing less than usual, confusion, and drowsiness. Even if it does not progress to complete kidney failure, AKI needs to be taken seriously. It has an effect on the whole body, changes how some medicines are handled by the body, and could make some existing illnesses more serious.', \"Most cases of acute kidney injury are caused by reduced blood flow to the kidneys, usually in someone who's already unwell with another health condition. This reduced blood flow could be caused by low blood volume after bleeding, excessive vomiting or diarrhea, or severe dehydration, among other factors. AKI can also be caused by problems with the kidney itself, such as inflammation of the filters, blood vessels or other structures in the kidney. This may be caused by a reaction to some medicines, infections or the liquid dye used in some types of X-rays.\", \"You’re more likely to get AKI if you’re aged 65 or over, you already have a kidney problem, such as chronic kidney disease, you have a long-term disease like heart failure, liver disease or diabetes, you’re dehydrated or unable to maintain your fluid intake independently, you have a blockage in your urinary tract (or are at risk of this), you have a severe infection or sepsis, or you're taking certain medicines, including non-steroidal anti-inflammatory drugs (NSAIDS), such as ibuprofen, or blood pressure medicines, such as ACE inhibitors or diuretics.\", 'A doctor may suspect AKI if you are in an \"at-risk\" group and suddenly fall ill or have symptoms of AKI. AKI is usually diagnosed with a blood test to measure your levels of creatinine, a chemical waste product produced by the muscles. If there\\'s a lot of creatinine in your blood, it means your kidneys are not working as they should. You may also be asked to give a pee sample. Urine can be tested for protein, blood cells, sugar, and waste products, which may give clues to the underlying cause.', 'The most serious complications of acute kidney injury include high levels of potassium in the blood, too much fluid in the body which can cause build-up of fluid in the arms and legs (oedema) or in the lungs (pulmonary oedema), acidic\\xa0blood (metabolic acidosis)\\xa0which can cause\\xa0nausea, vomiting, drowsiness, and breathlessness, and chronic kidney disease.', \"The treatment of AKI depends on what's causing your illness and how severe it is. You may need to increase your intake of water and other fluids if you're dehydrated, antibiotics if you have an infection, or stop taking certain medicines at least until the problem is sorted. A urinary catheter, a thin tube used to drain the bladder if there's a blockage, may be inserted. Most people with AKI make a full recovery, but some go on to develop chronic kidney disease or long-term kidney failure. In severe cases, dialysis may be needed.\", 'Yes, acute kidney injury can affect children and young people. Although it is more commonly seen in older people, AKI can occur in children and young people, and it is essential that it is detected early and treated promptly. Find out more about AKI in children from infoKID.', \"Certain medicines can increase the risk of AKI, including non-steroidal anti-inflammatory drugs (NSAIDS), such as ibuprofen or blood pressure medicines, such as ACE inhibitors or diuretics. Diuretics help the kidneys get rid of extra fluid from the body, but they may become less helpful when a person is dehydrated or suffering from a severe illness. Aminoglycosides, a type of antibiotic that's usually given only in hospital, are only likely to increase the risk of AKI if you're dehydrated or ill.\", \"Those at risk of AKI should be monitored with regular blood tests if they become unwell or start new medicine. It's also useful to check how much pee you're passing. Any warning signs of AKI, such as vomiting or producing little pee, require immediate investigation for AKI and treatment. People who are dehydrated or at risk of dehydration may need to be given fluids through a drip, and any medicine that seems to be making the problem worse or directly damaging the kidneys needs to be stopped, at least temporarily.\", 'Acute pancreatitis is a condition where the pancreas becomes inflamed and damaged, which can cause severe pain and other symptoms such as nausea and vomiting. It is usually caused by gallstones or excessive alcohol consumption, but in some cases, the cause is unknown.', 'The exact mechanism by which alcohol causes acute pancreatitis is not fully understood. However, one theory is that it stimulates the production of digestive enzymes within the pancreas, which can cause damage to the organ.', 'Hypertriglyceridaemia is a condition where there is a high level of fat in the blood. It can be a less common cause of acute pancreatitis.', 'Autoimmune pancreatitis is a rare condition where the immune system attacks the pancreas, causing inflammation and damage. It can be a cause of acute pancreatitis.', 'People who are over 70, obese, consume two or more alcoholic drinks a day, smoke, or have a family history of pancreatitis are more likely to develop severe pancreatitis.', 'Hypercalcaemia is a condition where there is an abnormally high level of calcium in the blood. It can be a less common cause of acute pancreatitis.', 'Yes, certain viruses can be a cause of acute pancreatitis, including mumps and measles.', 'Complications that can arise from acute pancreatitis include the development of pseudocysts, which can cause bloating, indigestion, and dull tummy pain, and pancreatic necrosis and infection, which can lead to organ failure and sepsis.', 'Pseudocysts are sacs of fluid that can develop on the surface of the pancreas in people with acute pancreatitis. These can cause bloating, indigestion, and dull tummy pain, and may require draining if they become infected.', 'In severe cases of acute pancreatitis, the pancreas can lose its blood supply, causing some of the tissue to die (necrosis). This can lead to infection which can spread into the blood (sepsis) and cause organ failure.', 'People with necrosis and an infection in the pancreas may require injections of antibiotics and surgery to remove the dead tissue. This is a very serious condition that requires prompt treatment and can be fatal.', 'Chronic pancreatitis is a long-term condition that can occur after repeated episodes of acute pancreatitis. It can result in permanent damage to the pancreas and can seriously affect quality of life.', 'No, most people with acute pancreatitis recover without experiencing any further problems. However, those with severe acute pancreatitis are more likely to experience complications.', 'Yes, pseudocysts can sometimes disappear on their own, but they can sometimes become infected and require draining.', 'Sepsis is a potentially life-threatening complication of pancreatic necrosis that occurs when infection spreads into the bloodstream and can cause organ failure.', \"Yes, chronic pancreatitis is a serious condition that can result in permanent damage to the pancreas and can seriously affect an individual's quality of life.\", \"ARDS stands for Acute respiratory distress syndrome which is a life-threatening condition where the lungs cannot provide the body's vital organs with enough oxygen.\", 'Symptoms of ARDS can include severe shortness of breath, rapid and shallow breathing, tiredness, drowsiness or confusion, feeling faint.', 'Call 999 immediately to ask for an ambulance if a child or adult is having breathing problems.', 'ARDS happens when the lungs become severely inflamed due to an infection or injury.', 'Lung inflammation leading to ARDS can be caused by pneumonia or severe flu, sepsis, chest injury, accidentally inhaled vomit, smoke or toxic chemicals, near drowning, acute pancreatitis, an adverse reaction to a blood transfusion.', 'Patients with ARDS use a breathing machine (ventilator) to help their breathing. You breathe through a mask attached to the machine. If your breathing is severely affected, a breathing tube may be inserted down your throat and into your lungs.', \"Addison's disease is usually diagnosed through a combination of symptoms, medical history, skin examination, blood tests, synacthen stimulation test, thyroid function test and scans of the adrenal glands.\", 'A synacthen stimulation test involves injecting a synthetic copy of the adrenocorticotrophic hormone (ACTH), called synacthen, into the body to encourage the adrenal glands to release cortisol and aldosterone. Blood samples are taken before and after the injection to measure the levels of these hormones in the body.', \"Blood tests for Addison's disease include measuring the levels of sodium, potassium and cortisol in the body. Low sodium, high potassium, or low cortisol levels may indicate Addison's disease. Other blood tests include measuring aldosterone, ACTH, glucose, and adrenal antibodies.\", \"Scans, such as CT scans or MRI scans, are used to visualize the adrenal glands and check for any abnormalities or damage. This can help in the diagnosis of Addison's disease, as the condition can cause damage to the adrenal glands.\", \"A thyroid function test is used to determine if the thyroid gland is working properly. The test measures the levels of certain hormones in the blood to detect any abnormalities. People with Addison's disease often have an underactive thyroid gland, which can be detected through this test.\", \"An adrenal crisis is a serious condition that can occur in people with Addison's disease when the body suddenly becomes unable to produce enough cortisol and aldosterone. Symptoms can include dehydration, low blood pressure, fever, confusion, and even coma. It is a medical emergency requiring immediate treatment.\", \"If a person with a bus, coach, or lorry license is diagnosed with Addison's disease, they are legally obligated to inform the Driver and Vehicle Licensing Agency (DVLA) of their condition. This is to ensure that they are fit to drive and are not at risk of causing an accident due to their condition.\", \"Addison's disease is a rare disorder of the adrenal glands that occurs when the adrenal gland is damaged, and it does not produce enough cortisol or aldosterone.\", \"The symptoms of Addison's disease include lack of energy or motivation, muscle weakness, low mood, loss of appetite and unintentional weight loss, increased thirst, dizziness, fainting, cramps, exhaustion, and small areas of darkened skin or darkened lips or gums.\", \"Addison's disease is usually caused by problems with the immune system, which attack the outer layer of the adrenal gland and disrupt the production of aldosterone and cortisol.\", \"Addison's disease can be managed with daily hormone replacement medication for the rest of the patient's life.\", \"Around 9,000 people in the UK have Addison's disease, with over 300 new cases diagnosed each year.\", \"Addison's disease affects people of any age, but it is most common between the ages of 30 and 50, and it is more common in women than men.\", 'An adrenal crisis occurs when the levels of cortisol in the body fall significantly, leading to a sudden worsening of symptoms. This is a medical emergency and can be fatal if left untreated.', \"Addison's disease is treated with hormone replacement medication to replace the hormones that the adrenal gland is unable to produce.\", \"Many people with Addison's disease also have associated health conditions, such as diabetes or an underactive thyroid (hypothyroidism).\", \"The National Congenital Anomaly and Rare Disease Registration Service (NCARDRS) is a register that collects information about people with rare diseases, such as Addison's disease, to help scientists find better ways to prevent and treat these conditions. People with Addison's disease can opt out of the register at any time.\", 'An adenoidectomy is an operation to remove enlarged adenoids, which are small lumps of tissue at the back of the throat behind the nose that are part of the immune system and help fight infection.', 'An adenoidectomy is mainly done in children to help with problems caused by enlarged adenoids.', 'The problems caused by enlarged adenoids that require an adenoidectomy include difficulty breathing through the nose which can cause mouth breathing or snoring, sleep apnoea, glue ear, and frequent ear infections.', 'Glue ear is an infection in the middle ear which can cause hearing problems and is one of the problems caused by enlarged adenoids that require an adenoidectomy.', 'It usually takes about a week to recover from an adenoidectomy, and during this time it is recommended to keep the child off school or nursery for about a week to rest and try to avoid being around other people to reduce the chance of them getting an infection.', 'An adenoidectomy may be done in adults who have the problems caused by enlarged adenoids listed above, but this is not common.', \"During an adenoidectomy, your child or adult will be under general anaesthetic, so they'll be asleep during the operation and will not feel any pain. The surgeon removes the adenoids through the mouth, either by carefully cutting them out or removing them using special tools that apply heat or radio frequency energy.\", 'Complications of an adenoidectomy are rare but can include bleeding in the throat after the operation, damage to teeth, infection where the adenoids were removed, breathing problems because of swelling in the throat, changes to the voice, and infections and breathing problems still happening after the operation.', 'To help a child recover after an adenoidectomy, it is encouraged to keep them off school or nursery for about a week to rest, try to avoid being around other people to reduce the chance of them getting an infection, give them paracetamol or ibuprofen to help with pain, encourage them to eat their usual foods as soon as possible to help their throat heal, and make sure they drink lots of fluids.', 'You should seek urgent medical advice after an adenoidectomy if your child has recently had an adenoidectomy and is in a lot of pain that does not get better with pain relief, has a high temperature, has a painful or stiff neck, is not drinking fluids, is experiencing bleeding from their throat or nose or blood in their sick, or black or brown sick.', \"Diabetic ketoacidosis (DKA) is a serious problem that can happen in people with diabetes if their body starts to run out of insulin. When this happens, harmful substances called ketones build up in the body, which can be life-threatening if it's not found and treated quickly.\", 'Symptoms of DKA include needing to pee more than usual, feeling very thirsty, being sick, tummy pain, breath that smells fruity (like pear drop sweets, or nail varnish), deep or fast breathing, feeling very tired or sleepy, confusion, passing out.', \"DKA is caused by a lack of insulin in the body, which results in the body breaking down fat for energy. Ketones are released into the body as the fat is broken down. If you have diabetes, certain things can make this more likely to happen, including having an infection, not following your treatment plan, such as missing doses of insulin, an injury or surgery, taking certain medicines, such as steroids, binge drinking, using illegal drugs, pregnancy, having your period, and sometimes, there's no obvious trigger.\", 'The following tips can help reduce your chances of getting DKA: check your blood sugar level regularly so you can notice and treat an increase quickly – read about how to treat high blood sugar on our page about hyperglycaemia, follow your treatment plan – do not stop taking insulin unless you\\'re told to by a healthcare professional, take extra care when you\\'re ill – your diabetes team can give you some \"sick-day rules\" to follow, which include things like checking your blood sugar more often and checking your ketone level.', \"Go to your nearest A&E immediately if you think you have DKA, especially if you have a high level of ketones in your blood or urine. DKA is an emergency and needs to be treated in hospital immediately. Call your diabetes team or GP as soon as possible if you're not sure whether you need emergency help.\", \"DKA mainly affects people with type 1 diabetes, but can sometimes affect people with type 2 diabetes. If you have diabetes, it's important to be aware of the risk and know what to do if you get DKA.\", \"DKA is usually treated in hospital. Treatments for DKA include insulin, usually given into a vein (intravenously), fluids given into a vein to rehydrate your body, and nutrients given into a vein to replace any you've lost. You'll also be closely monitored for any life-threatening problems that can happen, such as problems with your brain, kidneys or lungs. You can leave hospital when you're well enough to eat and drink and tests show a safe level of ketones in your body. It's common to stay in hospital for around 2 days.\", \"If left untreated or not detected early, diabetic ketoacidosis can be life-threatening. It can cause problems with your brain, kidneys, lungs, and other organs. That's why it's important to be aware of the symptoms of DKA and to take action as soon as possible if you think you might have it.\", \"Gallstones are small stones that form in the gallbladder, usually made of cholesterol. In most cases, they don't cause any symptoms and don't need to be treated.\", 'Gallstones often have no symptoms. However, if a gallstone becomes trapped in an opening inside the gallbladder, it can cause sudden, intense pain in the tummy that usually lasts between 1 and 5 hours. This type of abdominal pain is known as biliary colic. Some people with gallstones may also develop complications such as inflammation of the gallbladder.', 'The gallbladder is a small pouch-like organ found underneath the liver. Its main purpose is to store and concentrate bile, a liquid produced by the liver to help digest fats.', 'Gallstones are thought to develop because of an imbalance in the chemical makeup of bile inside the gallbladder. In most cases, the levels of cholesterol in bile become too high, and the excess cholesterol forms into stones.', 'The risk of developing gallstones is higher if you are overweight or obese, female (particularly if you have had children), or 40 or over (the risk increases as you get older). However, anyone can develop gallstones.', \"In most cases, it's not necessary to treat gallstones as they do not cause any symptoms and do not need to be treated. However, if they are causing symptoms or complications such as jaundice or acute pancreatitis, treatment may be necessary.\", 'Laparoscopic cholecystectomy is a simple surgical procedure to remove the gallbladder. It is recommended if gallstones are causing symptoms or complications. It involves making small incisions in the abdomen and using a tiny camera to guide the surgeon to remove the gallbladder. It has a low risk of complications.', \"After the gallbladder is removed, your liver will still produce bile to digest food, but the bile will drip continuously into the small intestine rather than building up in the gallbladder. It's possible to lead a normal life without a gallbladder.\", 'Very severe cases of gallstone disease can be life-threatening, particularly in people who are already in poor health. But deaths from gallstone disease are rare in the UK. With treatment, the outlook for people with gallstones is usually good.', 'Gastritis is a condition where your stomach lining becomes inflamed, causing pain, indigestion, feeling sick, and other symptoms. It can be caused by factors such as infections, use of anti-inflammatory painkillers, excessive alcohol consumption, and stress.', 'Common symptoms of gastritis include tummy pain, indigestion, feeling full and bloated, feeling sick, vomiting, decreased appetite, burping, and farting. In severe cases, gastritis can also cause vomiting of blood, dark and smelly stool, and sudden chest or stomach pain.', \"If you're experiencing symptoms of gastritis, it's important to seek medical help. Call 999 or go to the A&E if your vomit looks like ground coffee, you're vomiting bright red blood, or you have severe tummy or chest pain that started suddenly. For non-emergency cases, you can book an urgent GP appointment or get help from NHS 111. If you're experiencing mild indigestion symptoms, you can also talk to a pharmacist for over-the-counter medications.\", 'Gastritis can be caused by various factors, such as an infection with a bacteria called H. pylori, use of anti-inflammatory painkillers such as ibuprofen and aspirin, excessive alcohol consumption, and a problem with your immune system where it attacks the lining of your stomach.', 'To diagnose gastritis, your doctor may perform various tests, such as a breath test to check for H. pylori, a stool test, and a blood test. If necessary, they may also perform an upper endoscopy, where a thin tube with a camera is passed into your stomach to look for any inflammation or other issues.', 'The treatment for gastritis depends on the underlying cause. Treatment options may include antibiotics for bacterial infections, medications to control stomach acid, such as antacids, proton pump inhibitors, or alginates, or simply stopping the use of anti-inflammatory painkillers or excessive alcohol consumption. In severe cases, hospitalization may be required.', 'To prevent gastritis, you can try to avoid triggers such as excessive alcohol consumption, taking anti-inflammatory painkillers, and stress. Other preventive measures include ensuring you get adequate sleep, managing your stress levels, maintaining a healthy weight, and avoiding acidic, spicy, or fatty foods that could irritate your stomach lining.', 'You should see a GP if you experience tummy pain or indigestion for longer than a week, or if your symptoms are getting worse or coming back frequently. You should also see your GP if you experience other symptoms such as persistent nausea or vomiting, loss of appetite, or difficulty swallowing.', 'During a breath test for H. pylori, you will be given a special drink containing a harmless chemical. Your breath will then be checked for the presence of H. pylori bacteria, which can indicate whether or not you have an infection in your stomach causing gastritis.', \"If you're experiencing mild symptoms of gastritis, there are some things you can do at home to help, such as reducing your intake of caffeine-containing drinks, avoiding acidic or spicy foods, sleeping on an extra pillow to keep your head elevated, and losing weight if you're overweight. Additionally, you can talk to your pharmacist about over-the-counter medicines that can help control the symptoms like antacids and alginates.\", 'Genital herpes is a sexually transmitted infection (STI) that is transmitted through vaginal, anal, and oral sex.', 'The symptoms of genital herpes include small blisters that burst to leave red, open sores around your genitals, anus, thighs or bottom, tingling, burning or itching around your genitals, and pain when you pee.', 'The doctor or nurse at the sexual health clinic will ask about your symptoms and sexual partners and use a small cotton bud (swab) to take some fluid from one of your blisters or sores for testing.', 'There is no cure for genital herpes, but symptoms can be treated with antiviral medication to stop the symptoms from getting worse. Cream for the pain may also be prescribed.', 'Yes, genital herpes can come back. The blisters may come back as an outbreak or recurrence.', 'Genital herpes can be passed on through skin-to-skin contact with the infected area, including vaginal, anal and oral sex, when there are no visible sores or blisters. It can also be passed on by transferring the infection on fingers from someone else to your genitals or by sharing sex toys with someone who has herpes.', 'Triggers for genital herpes outbreaks can include ultraviolet light, friction in your genital area, smoking, drinking alcohol, being unwell or stressed, during the menstrual cycle, surgery on your genital area or having a weakened immune system.', 'During a genital herpes outbreak, you should keep the area clean using plain or salt water to prevent blisters becoming infected, apply an ice pack wrapped in a flannel to soothe pain, apply petroleum jelly (such as Vaseline) or painkilling cream (such as 5% lidocaine) to reduce pain when you pee, and wash your hands before and after applying cream or jelly. You should not wear tight clothing that may irritate blisters or sores or have vaginal, anal, or oral sex until the sores have gone away.', \"Yes, if a woman has genital herpes during pregnancy, there's a risk her baby could develop a serious illness called neonatal herpes. This can be fatal, but most babies recover with antiviral treatment.\", 'A woman should see her midwife or a GP if she thinks she has genital herpes in pregnancy. She may be offered antiviral treatment to treat outbreaks in pregnancy, from 36 weeks to reduce the chance of an outbreak during birth, or from diagnosis until the birth if she first gets herpes after 28 weeks of pregnancy. Many women with genital herpes have a vaginal delivery, but she may be offered a caesarean, depending on her circumstances.', 'Drinking plenty of water, getting plenty of rest if you have a cold or flu, trying to relax to avoid stress, taking paracetamol or ibuprofen, and avoiding alcohol, skipping meals, or straining your eyes for a long time.', 'Most headaches can last between 30 minutes and several hours.', 'You should see a GP if your headache keeps coming back, painkillers do not help and your headache gets worse, you have a bad throbbing pain at the front or side of your head, or you feel sick, vomit and find light or noise painful.', 'You should try to stay at home and avoid contact with other people.', 'You should get an urgent GP appointment or call 111 if you or your child has a severe headache accompanied by jaw pain when eating, blurred or double vision, a sore scalp, or other symptoms such as numbness or weakness in the arms or legs. Also, call 111 or get help from 111 online if you or your child has a headache that wakes them at night, gets progressively worse, or is triggered or made worse by coughing, sneezing, or bending down.', 'You should see a GP if you have a headache with vomiting, especially if it keeps coming back.', 'The most common reasons for headaches include having a cold or the flu, experiencing stress, drinking too much alcohol, having bad posture or eyesight problems, not consuming regular meals or enough fluids, taking too many painkillers, or experiencing your period or menopause.', 'You should call 999 or go to A&E immediately.', 'If you or your child has an extremely painful headache accompanied by sudden problems speaking or remembering things, loss of vision, feeling drowsy or confused, or a very high temperature and symptoms of meningitis, you should call 999 or go to A&E immediately.', 'Some preventative measures include drinking plenty of water, maintaining good posture, getting enough sleep and rest, avoiding stress, eating regular meals and avoiding skipping them, wearing glasses if necessary, taking breaks when using electronics, and avoiding alcohol and too much caffeine.', 'Heart failure means that the heart is unable to pump blood around the body properly. It usually happens because the heart has become too weak or stiff.', 'The main symptoms of heart failure are breathlessness after activity or at rest, feeling tired most of the time and finding exercise exhausting, feeling lightheaded or fainting, and swollen ankles and legs. Some people also experience other symptoms, such as a persistent cough, a fast heart rate and dizziness.', 'No, heart failure can occur at any age, but it is most common in older people.', 'Heart failure is often the result of a number of problems affecting the heart at the same time. Conditions that can lead to heart failure include coronary heart disease, high blood pressure, conditions affecting the heart muscle (cardiomyopathy), heart rhythm problems (arrhythmias), damage or other problems with the heart valves, congenital heart disease, obesity, anaemia, drinking too much alcohol, an overactive thyroid, or high pressure in the lungs (pulmonary hypertension).', 'You should see a GP if you experience persistent or gradually worsening symptoms of heart failure. If you have sudden or very severe symptoms, call 999 for an ambulance or go to your nearest A&E department as soon as possible.', 'A number of tests can be used to help check how well your heart is working, including blood tests, an ECG, and an echocardiogram.', 'Heart failure cannot usually be cured, but the symptoms can often be controlled for many years. A cure may be possible when heart failure has a treatable cause, such as replacing or repairing damaged heart valves.', 'Treatment for heart failure usually aims to control the symptoms for as long as possible and slow down the progression of the condition. Common treatments include lifestyle changes, such as eating a healthy diet, exercising regularly, and stopping smoking, medicine, a range of medicines can help, many people need to take 2 or 3 different types, devices implanted in your chest, which can help control your heart rhythm, and surgery, such as a bypass operation or a heart transplant. Treatment will usually be needed for life.', \"Yes, heart failure is a serious long-term condition that will usually continue to get slowly worse over time. It can severely limit the activities you're able to do and is often eventually fatal.\", \"No, it's very difficult to tell how the condition will progress on an individual basis. Lots of people remain stable for many years, while in some cases, it may get worse quickly.\"]\n"
          ]
        }
      ]
    },
    {
      "cell_type": "markdown",
      "source": [
        "## Section 7: T5-small RAG: Final Model Evaluation"
      ],
      "metadata": {
        "id": "DkoAdDQTLjOg"
      }
    },
    {
      "cell_type": "code",
      "source": [
        "#Ensuring the inputs are strings for subsequent evalution\n",
        "gen_ans = [str(x) for x in gen_ans]\n",
        "ref_ans = [str(x) for x in ref_ans]"
      ],
      "metadata": {
        "id": "8bA2jN27adUF"
      },
      "execution_count": null,
      "outputs": []
    },
    {
      "cell_type": "code",
      "source": [
        "rg = evaluate.load(\"rouge\") #loading rouge metics and its correpsonding\n",
        "sm= SmoothingFunction().method1 #smoothing feature for the BLEU sores\n",
        "bertscore = evaluate.load(\"bertscore\")\n",
        "\n",
        "#Computing the Rouge scores for the predicted againt refefences sets\n",
        "rg_= rg.compute(predictions=gen_ans, references=ref_ans,  rouge_types=[\"rouge1\", \"rouge2\", \"rougeL\"],use_stemmer=True)\n",
        "#Computing the BLEU-4 scores for the predicited agaisn the reference sets\n",
        "bleuscore_ =[sentence_bleu([ref.split()], gen.split(), weights=(.25, .25, .25, .25), smoothing_function=sm) for gen, ref in zip(gen_ans, ref_ans)]\n",
        "meanbleu_ = np.mean(bleuscore_) #computing mean blue score: meanbleu_\n",
        "#Computing the BERTScore-F1\n",
        "bert_result = bertscore.compute(predictions=gen_ans, references=ref_ans, lang=\"en\")\n",
        "avg_bertscore_f1 = round(np.mean(bert_result[\"f1\"]), 3)\n",
        "\n",
        "#token level evaltuation scores\n",
        "pd_tok= [gen.split() for gen in gen_ans]\n",
        "ref_tok= [ref.split() for ref in ref_ans]\n",
        "ypred =[token for sent in pd_tok for token in sent]\n",
        "y_ref =[token for  sent in ref_tok for token in sent]\n",
        "minlen = min(len(y_ref), len(ypred))\n",
        "ypred = ypred[:minlen]\n",
        "y_ref = y_ref[:minlen]\n",
        "\n",
        "#Computing precision, recall, f1 and exact match accuracy scores for the tokenised text evaluation\n",
        "tokprec_ = precision_score(y_ref, ypred, average=\"micro\", zero_division=0)\n",
        "tokrecall= recall_score(y_ref, ypred, average=\"micro\", zero_division=0)\n",
        "tokf1_ = f1_score(y_ref, ypred, average=\"micro\", zero_division=0)\n",
        "tokacc = accuracy_score(y_ref, ypred)\n",
        "\n",
        "#Compilling the evaluation metrics results\n",
        "t5ragere = {\"rouge 1\":rg_[\"rouge1\"], \"rouge 2\":rg_[\"rouge2\"],\n",
        "            \"rouge L\": round(rg_[\"rougeL\"], 3),\"bleu\":meanbleu_,\n",
        "            \"bertscore-F1\": avg_bertscore_f1, \"precision(Token)\":tokprec_,\n",
        "            \"recall Token)\": round(tokrecall, 3), \"F1 token_\": tokf1_, \"accuracy(Token)\":tokacc}\n",
        "print(t5ragere)\n",
        "#Saving the results into local dir\n",
        "pd.DataFrame([t5ragere]).to_csv(\"T5rag.csv\", index=False)"
      ],
      "metadata": {
        "id": "9zWnr0is148O",
        "colab": {
          "base_uri": "https://localhost:8080/"
        },
        "outputId": "e0b649ad-7727-4340-a758-c294917a2b8d"
      },
      "execution_count": null,
      "outputs": [
        {
          "output_type": "stream",
          "name": "stderr",
          "text": [
            "Some weights of RobertaModel were not initialized from the model checkpoint at roberta-large and are newly initialized: ['pooler.dense.bias', 'pooler.dense.weight']\n",
            "You should probably TRAIN this model on a down-stream task to be able to use it for predictions and inference.\n"
          ]
        },
        {
          "output_type": "stream",
          "name": "stdout",
          "text": [
            "{'ROUGE-1': np.float64(0.368), 'rouge 2': np.float64(0.21), 'ROUGE-L': np.float64(0.309), 'BLEU-4': np.float64(0.092), 'BERTScore-F1': np.float64(0.883), 'precision(Token)': 0.009, 'recall (Token)': 0.009, 'F1 token_': 0.009, 'Accuracy (Token)': 0.009}\n"
          ]
        }
      ]
    }
  ]
}